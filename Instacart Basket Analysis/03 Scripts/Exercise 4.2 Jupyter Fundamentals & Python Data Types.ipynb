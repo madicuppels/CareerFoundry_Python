{
 "cells": [
  {
   "cell_type": "markdown",
   "id": "9cc99595",
   "metadata": {},
   "source": [
    "# 01 Importing Libraries"
   ]
  },
  {
   "cell_type": "code",
   "execution_count": 1,
   "id": "8616638b",
   "metadata": {},
   "outputs": [],
   "source": [
    "# Import libraries\n",
    "import pandas as pd\n",
    "import numpy as np\n",
    "import os"
   ]
  },
  {
   "cell_type": "markdown",
   "id": "997e3396",
   "metadata": {},
   "source": [
    "# 02 Working with Python Data Types"
   ]
  },
  {
   "cell_type": "markdown",
   "id": "a9235161",
   "metadata": {},
   "source": [
    "Part 7"
   ]
  },
  {
   "cell_type": "code",
   "execution_count": 2,
   "id": "d862ac1e",
   "metadata": {},
   "outputs": [
    {
     "data": {
      "text/plain": [
       "100"
      ]
     },
     "execution_count": 2,
     "metadata": {},
     "output_type": "execute_result"
    }
   ],
   "source": [
    "x = 50\n",
    "y = 50\n",
    "x + y"
   ]
  },
  {
   "cell_type": "code",
   "execution_count": 3,
   "id": "dccf89b8",
   "metadata": {},
   "outputs": [
    {
     "data": {
      "text/plain": [
       "100"
      ]
     },
     "execution_count": 3,
     "metadata": {},
     "output_type": "execute_result"
    }
   ],
   "source": [
    "x = 150\n",
    "y = 50\n",
    "x - y"
   ]
  },
  {
   "cell_type": "code",
   "execution_count": 4,
   "id": "0dfa1565",
   "metadata": {},
   "outputs": [
    {
     "data": {
      "text/plain": [
       "100"
      ]
     },
     "execution_count": 4,
     "metadata": {},
     "output_type": "execute_result"
    }
   ],
   "source": [
    "x = 25\n",
    "y = 75\n",
    "x + y"
   ]
  },
  {
   "cell_type": "markdown",
   "id": "6b84e58e",
   "metadata": {},
   "source": [
    "Part 8"
   ]
  },
  {
   "cell_type": "code",
   "execution_count": 5,
   "id": "bd4eabbc",
   "metadata": {},
   "outputs": [
    {
     "data": {
      "text/plain": [
       "23.12790697674419"
      ]
     },
     "execution_count": 5,
     "metadata": {},
     "output_type": "execute_result"
    }
   ],
   "source": [
    "x = 99.45\n",
    "y = 4.3\n",
    "x/y"
   ]
  },
  {
   "cell_type": "markdown",
   "id": "4a76697b",
   "metadata": {},
   "source": [
    "Part 9"
   ]
  },
  {
   "cell_type": "code",
   "execution_count": 7,
   "id": "b6594725",
   "metadata": {},
   "outputs": [
    {
     "data": {
      "text/plain": [
       "'Python'"
      ]
     },
     "execution_count": 7,
     "metadata": {},
     "output_type": "execute_result"
    }
   ],
   "source": [
    "a = 'Pyt'\n",
    "b = 'hon'\n",
    "a+b"
   ]
  },
  {
   "cell_type": "raw",
   "id": "296264e3",
   "metadata": {},
   "source": [
    "Part 10"
   ]
  },
  {
   "cell_type": "code",
   "execution_count": 9,
   "id": "549df2ee",
   "metadata": {},
   "outputs": [
    {
     "data": {
      "text/plain": [
       "'My name is Madi. I am learning Data Analytics!'"
      ]
     },
     "execution_count": 9,
     "metadata": {},
     "output_type": "execute_result"
    }
   ],
   "source": [
    "a = 'My name is Madi. '\n",
    "b = 'I am learning Data Analytics!'\n",
    "a+b"
   ]
  },
  {
   "cell_type": "markdown",
   "id": "49518a50",
   "metadata": {},
   "source": [
    "Bonus Task"
   ]
  },
  {
   "cell_type": "code",
   "execution_count": 10,
   "id": "aed7bc30",
   "metadata": {},
   "outputs": [
    {
     "data": {
      "text/plain": [
       "'MadiMadiMadiMadiMadiMadiMadiMadiMadiMadiMadiMadiMadiMadiMadiMadiMadiMadiMadiMadiMadiMadiMadiMadiMadiMadiMadiMadiMadiMadiMadiMadiMadiMadiMadiMadiMadiMadiMadiMadiMadiMadiMadiMadiMadiMadiMadiMadiMadiMadiMadiMadiMadiMadiMadiMadiMadiMadiMadiMadiMadiMadiMadiMadiMadiMadiMadiMadiMadiMadiMadiMadiMadiMadiMadiMadiMadiMadiMadiMadiMadiMadiMadiMadiMadiMadiMadiMadiMadiMadiMadiMadiMadiMadiMadiMadiMadiMadiMadiMadi'"
      ]
     },
     "execution_count": 10,
     "metadata": {},
     "output_type": "execute_result"
    }
   ],
   "source": [
    "a = 'Madi'\n",
    "a*100"
   ]
  }
 ],
 "metadata": {
  "kernelspec": {
   "display_name": "Python 3 (ipykernel)",
   "language": "python",
   "name": "python3"
  },
  "language_info": {
   "codemirror_mode": {
    "name": "ipython",
    "version": 3
   },
   "file_extension": ".py",
   "mimetype": "text/x-python",
   "name": "python",
   "nbconvert_exporter": "python",
   "pygments_lexer": "ipython3",
   "version": "3.10.9"
  }
 },
 "nbformat": 4,
 "nbformat_minor": 5
}
