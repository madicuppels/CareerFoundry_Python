{
 "cells": [
  {
   "cell_type": "markdown",
   "id": "4ac5c7ff",
   "metadata": {},
   "source": [
    "Table of Contents\n",
    "\n",
    "1) Importing libraries and data \n",
    "2) Addressing security implications\n",
    "3) Grouping States into Regions\n",
    "4) Creating Exclusion Flag for Low-Activity Customers\n",
    "5) Creating Customer Profiles\n",
    "6) Visualizations for Customer Profiles \n",
    "7) Aggregate the max, mean, and min variables on a customer-profile level for usage frequency and expenditure\n",
    "8) Compare customer profiles with regions and departments\n",
    "9) Additional visualizations "
   ]
  },
  {
   "cell_type": "markdown",
   "id": "f53398ff",
   "metadata": {},
   "source": [
    "## Part 1 - Importing Libraries and data "
   ]
  },
  {
   "cell_type": "code",
   "execution_count": 1,
   "id": "f6e57957",
   "metadata": {},
   "outputs": [],
   "source": [
    "# Importing Libraries \n",
    "import pandas as pd\n",
    "import numpy as np\n",
    "import os\n",
    "import matplotlib.pyplot as plt\n",
    "import seaborn as sns\n",
    "import scipy"
   ]
  },
  {
   "cell_type": "code",
   "execution_count": 2,
   "id": "0f5c5edd",
   "metadata": {},
   "outputs": [],
   "source": [
    "path = r'C:\\Users\\madic\\OneDrive\\Documents\\Instacart Basket Analysis'"
   ]
  },
  {
   "cell_type": "code",
   "execution_count": 3,
   "id": "6ec0df8f",
   "metadata": {},
   "outputs": [],
   "source": [
    "df_ords_prods_customers =  pd.read_pickle(os.path.join(path, '02 Data', 'Prepared Data', 'orders_products_customers.pkl'))"
   ]
  },
  {
   "cell_type": "code",
   "execution_count": 4,
   "id": "e0795c44",
   "metadata": {},
   "outputs": [],
   "source": [
    "df_depts =  pd.read_csv(os.path.join(path, '02 Data', 'Prepared Data', 'departments_wrangled.csv'), index_col = False)"
   ]
  },
  {
   "cell_type": "code",
   "execution_count": 5,
   "id": "2ab87786",
   "metadata": {},
   "outputs": [],
   "source": [
    "df_depts.rename(columns = {'Unnamed: 0' : 'department_id'}, inplace = True)"
   ]
  },
  {
   "cell_type": "markdown",
   "id": "6112b253",
   "metadata": {},
   "source": [
    "## Part 2 - Addressing any security implications "
   ]
  },
  {
   "cell_type": "markdown",
   "id": "36ccf211",
   "metadata": {},
   "source": [
    "If this were real data and not fabricated for the use of this project, the customers dataset would have issues regarding PII because first and last names are being used. "
   ]
  },
  {
   "cell_type": "code",
   "execution_count": 123,
   "id": "174ad166",
   "metadata": {
    "scrolled": true
   },
   "outputs": [
    {
     "name": "stdout",
     "output_type": "stream",
     "text": [
      "<class 'pandas.core.frame.DataFrame'>\n",
      "Int64Index: 32404859 entries, 0 to 32404858\n",
      "Data columns (total 41 columns):\n",
      " #   Column                         Dtype   \n",
      "---  ------                         -----   \n",
      " 0   user_id                        int64   \n",
      " 1   first_name                     object  \n",
      " 2   last_name                      object  \n",
      " 3   gender                         object  \n",
      " 4   state                          object  \n",
      " 5   age                            int64   \n",
      " 6   date_joined                    object  \n",
      " 7   n_dependants                   int64   \n",
      " 8   fam_status                     object  \n",
      " 9   income                         int64   \n",
      " 10  Unnamed: 0_x                   int64   \n",
      " 11  product_id                     int64   \n",
      " 12  product_name                   object  \n",
      " 13  aisle_id                       int64   \n",
      " 14  department_id                  int64   \n",
      " 15  prices                         float64 \n",
      " 16  Unnamed: 0.1                   int64   \n",
      " 17  Unnamed: 0_y                   int64   \n",
      " 18  order_id                       int64   \n",
      " 19  eval_set                       object  \n",
      " 20  order_number                   int64   \n",
      " 21  orders_day_of_week             int64   \n",
      " 22  order_hour_of_day              int64   \n",
      " 23  days_since_prior_order         float64 \n",
      " 24  add_to_cart_order              int64   \n",
      " 25  reordered                      int64   \n",
      " 26  _merge                         category\n",
      " 27  Check                          category\n",
      " 28  price_range_loc                object  \n",
      " 29  busiest_day                    object  \n",
      " 30  busiest_days                   object  \n",
      " 31  busiest_period_of_day          object  \n",
      " 32  max_order                      int64   \n",
      " 33  loyalty_flag                   object  \n",
      " 34  mean_price                     float64 \n",
      " 35  spending_flag                  object  \n",
      " 36  median_days_since_prior_order  float64 \n",
      " 37  frequency_flag                 object  \n",
      " 38  True                           category\n",
      " 39  Region                         object  \n",
      " 40  low_activity_flag              object  \n",
      "dtypes: category(3), float64(4), int64(17), object(17)\n",
      "memory usage: 10.5+ GB\n"
     ]
    }
   ],
   "source": [
    "df_ords_prods_customers.info()"
   ]
  },
  {
   "cell_type": "code",
   "execution_count": 6,
   "id": "251643b2",
   "metadata": {},
   "outputs": [
    {
     "data": {
      "text/html": [
       "<div>\n",
       "<style scoped>\n",
       "    .dataframe tbody tr th:only-of-type {\n",
       "        vertical-align: middle;\n",
       "    }\n",
       "\n",
       "    .dataframe tbody tr th {\n",
       "        vertical-align: top;\n",
       "    }\n",
       "\n",
       "    .dataframe thead th {\n",
       "        text-align: right;\n",
       "    }\n",
       "</style>\n",
       "<table border=\"1\" class=\"dataframe\">\n",
       "  <thead>\n",
       "    <tr style=\"text-align: right;\">\n",
       "      <th></th>\n",
       "      <th>user_id</th>\n",
       "      <th>last_name</th>\n",
       "      <th>gender</th>\n",
       "      <th>state</th>\n",
       "      <th>age</th>\n",
       "      <th>date_joined</th>\n",
       "      <th>n_dependants</th>\n",
       "      <th>fam_status</th>\n",
       "      <th>income</th>\n",
       "      <th>Unnamed: 0_x</th>\n",
       "      <th>...</th>\n",
       "      <th>busiest_day</th>\n",
       "      <th>busiest_days</th>\n",
       "      <th>busiest_period_of_day</th>\n",
       "      <th>max_order</th>\n",
       "      <th>loyalty_flag</th>\n",
       "      <th>mean_price</th>\n",
       "      <th>spending_flag</th>\n",
       "      <th>median_days_since_prior_order</th>\n",
       "      <th>frequency_flag</th>\n",
       "      <th>True</th>\n",
       "    </tr>\n",
       "  </thead>\n",
       "  <tbody>\n",
       "    <tr>\n",
       "      <th>0</th>\n",
       "      <td>26711</td>\n",
       "      <td>Esquivel</td>\n",
       "      <td>Female</td>\n",
       "      <td>Missouri</td>\n",
       "      <td>48</td>\n",
       "      <td>1/1/2017</td>\n",
       "      <td>3</td>\n",
       "      <td>married</td>\n",
       "      <td>165665</td>\n",
       "      <td>195</td>\n",
       "      <td>...</td>\n",
       "      <td>Regularly busy</td>\n",
       "      <td>Busiest days</td>\n",
       "      <td>Most orders</td>\n",
       "      <td>8</td>\n",
       "      <td>New customer</td>\n",
       "      <td>7.988889</td>\n",
       "      <td>Low spender</td>\n",
       "      <td>19.0</td>\n",
       "      <td>Regular customer</td>\n",
       "      <td>both</td>\n",
       "    </tr>\n",
       "    <tr>\n",
       "      <th>1</th>\n",
       "      <td>26711</td>\n",
       "      <td>Esquivel</td>\n",
       "      <td>Female</td>\n",
       "      <td>Missouri</td>\n",
       "      <td>48</td>\n",
       "      <td>1/1/2017</td>\n",
       "      <td>3</td>\n",
       "      <td>married</td>\n",
       "      <td>165665</td>\n",
       "      <td>195</td>\n",
       "      <td>...</td>\n",
       "      <td>Regularly busy</td>\n",
       "      <td>Regularly busy days</td>\n",
       "      <td>Most orders</td>\n",
       "      <td>8</td>\n",
       "      <td>New customer</td>\n",
       "      <td>7.988889</td>\n",
       "      <td>Low spender</td>\n",
       "      <td>19.0</td>\n",
       "      <td>Regular customer</td>\n",
       "      <td>both</td>\n",
       "    </tr>\n",
       "    <tr>\n",
       "      <th>2</th>\n",
       "      <td>26711</td>\n",
       "      <td>Esquivel</td>\n",
       "      <td>Female</td>\n",
       "      <td>Missouri</td>\n",
       "      <td>48</td>\n",
       "      <td>1/1/2017</td>\n",
       "      <td>3</td>\n",
       "      <td>married</td>\n",
       "      <td>165665</td>\n",
       "      <td>195</td>\n",
       "      <td>...</td>\n",
       "      <td>Regularly busy</td>\n",
       "      <td>Busiest days</td>\n",
       "      <td>Most orders</td>\n",
       "      <td>8</td>\n",
       "      <td>New customer</td>\n",
       "      <td>7.988889</td>\n",
       "      <td>Low spender</td>\n",
       "      <td>19.0</td>\n",
       "      <td>Regular customer</td>\n",
       "      <td>both</td>\n",
       "    </tr>\n",
       "    <tr>\n",
       "      <th>3</th>\n",
       "      <td>26711</td>\n",
       "      <td>Esquivel</td>\n",
       "      <td>Female</td>\n",
       "      <td>Missouri</td>\n",
       "      <td>48</td>\n",
       "      <td>1/1/2017</td>\n",
       "      <td>3</td>\n",
       "      <td>married</td>\n",
       "      <td>165665</td>\n",
       "      <td>6184</td>\n",
       "      <td>...</td>\n",
       "      <td>Regularly busy</td>\n",
       "      <td>Regularly busy days</td>\n",
       "      <td>Most orders</td>\n",
       "      <td>8</td>\n",
       "      <td>New customer</td>\n",
       "      <td>7.988889</td>\n",
       "      <td>Low spender</td>\n",
       "      <td>19.0</td>\n",
       "      <td>Regular customer</td>\n",
       "      <td>both</td>\n",
       "    </tr>\n",
       "    <tr>\n",
       "      <th>4</th>\n",
       "      <td>26711</td>\n",
       "      <td>Esquivel</td>\n",
       "      <td>Female</td>\n",
       "      <td>Missouri</td>\n",
       "      <td>48</td>\n",
       "      <td>1/1/2017</td>\n",
       "      <td>3</td>\n",
       "      <td>married</td>\n",
       "      <td>165665</td>\n",
       "      <td>6184</td>\n",
       "      <td>...</td>\n",
       "      <td>Regularly busy</td>\n",
       "      <td>Least busy days</td>\n",
       "      <td>Most orders</td>\n",
       "      <td>8</td>\n",
       "      <td>New customer</td>\n",
       "      <td>7.988889</td>\n",
       "      <td>Low spender</td>\n",
       "      <td>19.0</td>\n",
       "      <td>Regular customer</td>\n",
       "      <td>both</td>\n",
       "    </tr>\n",
       "    <tr>\n",
       "      <th>...</th>\n",
       "      <td>...</td>\n",
       "      <td>...</td>\n",
       "      <td>...</td>\n",
       "      <td>...</td>\n",
       "      <td>...</td>\n",
       "      <td>...</td>\n",
       "      <td>...</td>\n",
       "      <td>...</td>\n",
       "      <td>...</td>\n",
       "      <td>...</td>\n",
       "      <td>...</td>\n",
       "      <td>...</td>\n",
       "      <td>...</td>\n",
       "      <td>...</td>\n",
       "      <td>...</td>\n",
       "      <td>...</td>\n",
       "      <td>...</td>\n",
       "      <td>...</td>\n",
       "      <td>...</td>\n",
       "      <td>...</td>\n",
       "      <td>...</td>\n",
       "    </tr>\n",
       "    <tr>\n",
       "      <th>32404854</th>\n",
       "      <td>80148</td>\n",
       "      <td>Noble</td>\n",
       "      <td>Female</td>\n",
       "      <td>New York</td>\n",
       "      <td>55</td>\n",
       "      <td>4/1/2020</td>\n",
       "      <td>1</td>\n",
       "      <td>married</td>\n",
       "      <td>57095</td>\n",
       "      <td>38754</td>\n",
       "      <td>...</td>\n",
       "      <td>Regularly busy</td>\n",
       "      <td>Regularly busy days</td>\n",
       "      <td>Most orders</td>\n",
       "      <td>4</td>\n",
       "      <td>New customer</td>\n",
       "      <td>3.886667</td>\n",
       "      <td>Low spender</td>\n",
       "      <td>12.0</td>\n",
       "      <td>Regular customer</td>\n",
       "      <td>both</td>\n",
       "    </tr>\n",
       "    <tr>\n",
       "      <th>32404855</th>\n",
       "      <td>80148</td>\n",
       "      <td>Noble</td>\n",
       "      <td>Female</td>\n",
       "      <td>New York</td>\n",
       "      <td>55</td>\n",
       "      <td>4/1/2020</td>\n",
       "      <td>1</td>\n",
       "      <td>married</td>\n",
       "      <td>57095</td>\n",
       "      <td>39073</td>\n",
       "      <td>...</td>\n",
       "      <td>Regularly busy</td>\n",
       "      <td>Regularly busy days</td>\n",
       "      <td>Most orders</td>\n",
       "      <td>4</td>\n",
       "      <td>New customer</td>\n",
       "      <td>3.886667</td>\n",
       "      <td>Low spender</td>\n",
       "      <td>12.0</td>\n",
       "      <td>Regular customer</td>\n",
       "      <td>both</td>\n",
       "    </tr>\n",
       "    <tr>\n",
       "      <th>32404856</th>\n",
       "      <td>80148</td>\n",
       "      <td>Noble</td>\n",
       "      <td>Female</td>\n",
       "      <td>New York</td>\n",
       "      <td>55</td>\n",
       "      <td>4/1/2020</td>\n",
       "      <td>1</td>\n",
       "      <td>married</td>\n",
       "      <td>57095</td>\n",
       "      <td>39976</td>\n",
       "      <td>...</td>\n",
       "      <td>Regularly busy</td>\n",
       "      <td>Regularly busy days</td>\n",
       "      <td>Most orders</td>\n",
       "      <td>4</td>\n",
       "      <td>New customer</td>\n",
       "      <td>3.886667</td>\n",
       "      <td>Low spender</td>\n",
       "      <td>12.0</td>\n",
       "      <td>Regular customer</td>\n",
       "      <td>both</td>\n",
       "    </tr>\n",
       "    <tr>\n",
       "      <th>32404857</th>\n",
       "      <td>80148</td>\n",
       "      <td>Noble</td>\n",
       "      <td>Female</td>\n",
       "      <td>New York</td>\n",
       "      <td>55</td>\n",
       "      <td>4/1/2020</td>\n",
       "      <td>1</td>\n",
       "      <td>married</td>\n",
       "      <td>57095</td>\n",
       "      <td>41431</td>\n",
       "      <td>...</td>\n",
       "      <td>Regularly busy</td>\n",
       "      <td>Regularly busy days</td>\n",
       "      <td>Most orders</td>\n",
       "      <td>4</td>\n",
       "      <td>New customer</td>\n",
       "      <td>3.886667</td>\n",
       "      <td>Low spender</td>\n",
       "      <td>12.0</td>\n",
       "      <td>Regular customer</td>\n",
       "      <td>both</td>\n",
       "    </tr>\n",
       "    <tr>\n",
       "      <th>32404858</th>\n",
       "      <td>80148</td>\n",
       "      <td>Noble</td>\n",
       "      <td>Female</td>\n",
       "      <td>New York</td>\n",
       "      <td>55</td>\n",
       "      <td>4/1/2020</td>\n",
       "      <td>1</td>\n",
       "      <td>married</td>\n",
       "      <td>57095</td>\n",
       "      <td>48339</td>\n",
       "      <td>...</td>\n",
       "      <td>Regularly busy</td>\n",
       "      <td>Regularly busy days</td>\n",
       "      <td>Most orders</td>\n",
       "      <td>4</td>\n",
       "      <td>New customer</td>\n",
       "      <td>3.886667</td>\n",
       "      <td>Low spender</td>\n",
       "      <td>12.0</td>\n",
       "      <td>Regular customer</td>\n",
       "      <td>both</td>\n",
       "    </tr>\n",
       "  </tbody>\n",
       "</table>\n",
       "<p>32404859 rows × 38 columns</p>\n",
       "</div>"
      ],
      "text/plain": [
       "          user_id last_name  gender     state  age date_joined  n_dependants  \\\n",
       "0           26711  Esquivel  Female  Missouri   48    1/1/2017             3   \n",
       "1           26711  Esquivel  Female  Missouri   48    1/1/2017             3   \n",
       "2           26711  Esquivel  Female  Missouri   48    1/1/2017             3   \n",
       "3           26711  Esquivel  Female  Missouri   48    1/1/2017             3   \n",
       "4           26711  Esquivel  Female  Missouri   48    1/1/2017             3   \n",
       "...           ...       ...     ...       ...  ...         ...           ...   \n",
       "32404854    80148     Noble  Female  New York   55    4/1/2020             1   \n",
       "32404855    80148     Noble  Female  New York   55    4/1/2020             1   \n",
       "32404856    80148     Noble  Female  New York   55    4/1/2020             1   \n",
       "32404857    80148     Noble  Female  New York   55    4/1/2020             1   \n",
       "32404858    80148     Noble  Female  New York   55    4/1/2020             1   \n",
       "\n",
       "         fam_status  income  Unnamed: 0_x  ...     busiest_day  \\\n",
       "0           married  165665           195  ...  Regularly busy   \n",
       "1           married  165665           195  ...  Regularly busy   \n",
       "2           married  165665           195  ...  Regularly busy   \n",
       "3           married  165665          6184  ...  Regularly busy   \n",
       "4           married  165665          6184  ...  Regularly busy   \n",
       "...             ...     ...           ...  ...             ...   \n",
       "32404854    married   57095         38754  ...  Regularly busy   \n",
       "32404855    married   57095         39073  ...  Regularly busy   \n",
       "32404856    married   57095         39976  ...  Regularly busy   \n",
       "32404857    married   57095         41431  ...  Regularly busy   \n",
       "32404858    married   57095         48339  ...  Regularly busy   \n",
       "\n",
       "                 busiest_days  busiest_period_of_day  max_order  loyalty_flag  \\\n",
       "0                Busiest days            Most orders          8  New customer   \n",
       "1         Regularly busy days            Most orders          8  New customer   \n",
       "2                Busiest days            Most orders          8  New customer   \n",
       "3         Regularly busy days            Most orders          8  New customer   \n",
       "4             Least busy days            Most orders          8  New customer   \n",
       "...                       ...                    ...        ...           ...   \n",
       "32404854  Regularly busy days            Most orders          4  New customer   \n",
       "32404855  Regularly busy days            Most orders          4  New customer   \n",
       "32404856  Regularly busy days            Most orders          4  New customer   \n",
       "32404857  Regularly busy days            Most orders          4  New customer   \n",
       "32404858  Regularly busy days            Most orders          4  New customer   \n",
       "\n",
       "          mean_price  spending_flag  median_days_since_prior_order  \\\n",
       "0           7.988889    Low spender                           19.0   \n",
       "1           7.988889    Low spender                           19.0   \n",
       "2           7.988889    Low spender                           19.0   \n",
       "3           7.988889    Low spender                           19.0   \n",
       "4           7.988889    Low spender                           19.0   \n",
       "...              ...            ...                            ...   \n",
       "32404854    3.886667    Low spender                           12.0   \n",
       "32404855    3.886667    Low spender                           12.0   \n",
       "32404856    3.886667    Low spender                           12.0   \n",
       "32404857    3.886667    Low spender                           12.0   \n",
       "32404858    3.886667    Low spender                           12.0   \n",
       "\n",
       "            frequency_flag  True  \n",
       "0         Regular customer  both  \n",
       "1         Regular customer  both  \n",
       "2         Regular customer  both  \n",
       "3         Regular customer  both  \n",
       "4         Regular customer  both  \n",
       "...                    ...   ...  \n",
       "32404854  Regular customer  both  \n",
       "32404855  Regular customer  both  \n",
       "32404856  Regular customer  both  \n",
       "32404857  Regular customer  both  \n",
       "32404858  Regular customer  both  \n",
       "\n",
       "[32404859 rows x 38 columns]"
      ]
     },
     "execution_count": 6,
     "metadata": {},
     "output_type": "execute_result"
    }
   ],
   "source": [
    "# Removing first and last name columns\n",
    "df_ords_prods_customers.drop(columns = ['first_name'])"
   ]
  },
  {
   "cell_type": "code",
   "execution_count": 7,
   "id": "3b21d0e1",
   "metadata": {},
   "outputs": [
    {
     "data": {
      "text/html": [
       "<div>\n",
       "<style scoped>\n",
       "    .dataframe tbody tr th:only-of-type {\n",
       "        vertical-align: middle;\n",
       "    }\n",
       "\n",
       "    .dataframe tbody tr th {\n",
       "        vertical-align: top;\n",
       "    }\n",
       "\n",
       "    .dataframe thead th {\n",
       "        text-align: right;\n",
       "    }\n",
       "</style>\n",
       "<table border=\"1\" class=\"dataframe\">\n",
       "  <thead>\n",
       "    <tr style=\"text-align: right;\">\n",
       "      <th></th>\n",
       "      <th>user_id</th>\n",
       "      <th>first_name</th>\n",
       "      <th>gender</th>\n",
       "      <th>state</th>\n",
       "      <th>age</th>\n",
       "      <th>date_joined</th>\n",
       "      <th>n_dependants</th>\n",
       "      <th>fam_status</th>\n",
       "      <th>income</th>\n",
       "      <th>Unnamed: 0_x</th>\n",
       "      <th>...</th>\n",
       "      <th>busiest_day</th>\n",
       "      <th>busiest_days</th>\n",
       "      <th>busiest_period_of_day</th>\n",
       "      <th>max_order</th>\n",
       "      <th>loyalty_flag</th>\n",
       "      <th>mean_price</th>\n",
       "      <th>spending_flag</th>\n",
       "      <th>median_days_since_prior_order</th>\n",
       "      <th>frequency_flag</th>\n",
       "      <th>True</th>\n",
       "    </tr>\n",
       "  </thead>\n",
       "  <tbody>\n",
       "    <tr>\n",
       "      <th>0</th>\n",
       "      <td>26711</td>\n",
       "      <td>Deborah</td>\n",
       "      <td>Female</td>\n",
       "      <td>Missouri</td>\n",
       "      <td>48</td>\n",
       "      <td>1/1/2017</td>\n",
       "      <td>3</td>\n",
       "      <td>married</td>\n",
       "      <td>165665</td>\n",
       "      <td>195</td>\n",
       "      <td>...</td>\n",
       "      <td>Regularly busy</td>\n",
       "      <td>Busiest days</td>\n",
       "      <td>Most orders</td>\n",
       "      <td>8</td>\n",
       "      <td>New customer</td>\n",
       "      <td>7.988889</td>\n",
       "      <td>Low spender</td>\n",
       "      <td>19.0</td>\n",
       "      <td>Regular customer</td>\n",
       "      <td>both</td>\n",
       "    </tr>\n",
       "    <tr>\n",
       "      <th>1</th>\n",
       "      <td>26711</td>\n",
       "      <td>Deborah</td>\n",
       "      <td>Female</td>\n",
       "      <td>Missouri</td>\n",
       "      <td>48</td>\n",
       "      <td>1/1/2017</td>\n",
       "      <td>3</td>\n",
       "      <td>married</td>\n",
       "      <td>165665</td>\n",
       "      <td>195</td>\n",
       "      <td>...</td>\n",
       "      <td>Regularly busy</td>\n",
       "      <td>Regularly busy days</td>\n",
       "      <td>Most orders</td>\n",
       "      <td>8</td>\n",
       "      <td>New customer</td>\n",
       "      <td>7.988889</td>\n",
       "      <td>Low spender</td>\n",
       "      <td>19.0</td>\n",
       "      <td>Regular customer</td>\n",
       "      <td>both</td>\n",
       "    </tr>\n",
       "    <tr>\n",
       "      <th>2</th>\n",
       "      <td>26711</td>\n",
       "      <td>Deborah</td>\n",
       "      <td>Female</td>\n",
       "      <td>Missouri</td>\n",
       "      <td>48</td>\n",
       "      <td>1/1/2017</td>\n",
       "      <td>3</td>\n",
       "      <td>married</td>\n",
       "      <td>165665</td>\n",
       "      <td>195</td>\n",
       "      <td>...</td>\n",
       "      <td>Regularly busy</td>\n",
       "      <td>Busiest days</td>\n",
       "      <td>Most orders</td>\n",
       "      <td>8</td>\n",
       "      <td>New customer</td>\n",
       "      <td>7.988889</td>\n",
       "      <td>Low spender</td>\n",
       "      <td>19.0</td>\n",
       "      <td>Regular customer</td>\n",
       "      <td>both</td>\n",
       "    </tr>\n",
       "    <tr>\n",
       "      <th>3</th>\n",
       "      <td>26711</td>\n",
       "      <td>Deborah</td>\n",
       "      <td>Female</td>\n",
       "      <td>Missouri</td>\n",
       "      <td>48</td>\n",
       "      <td>1/1/2017</td>\n",
       "      <td>3</td>\n",
       "      <td>married</td>\n",
       "      <td>165665</td>\n",
       "      <td>6184</td>\n",
       "      <td>...</td>\n",
       "      <td>Regularly busy</td>\n",
       "      <td>Regularly busy days</td>\n",
       "      <td>Most orders</td>\n",
       "      <td>8</td>\n",
       "      <td>New customer</td>\n",
       "      <td>7.988889</td>\n",
       "      <td>Low spender</td>\n",
       "      <td>19.0</td>\n",
       "      <td>Regular customer</td>\n",
       "      <td>both</td>\n",
       "    </tr>\n",
       "    <tr>\n",
       "      <th>4</th>\n",
       "      <td>26711</td>\n",
       "      <td>Deborah</td>\n",
       "      <td>Female</td>\n",
       "      <td>Missouri</td>\n",
       "      <td>48</td>\n",
       "      <td>1/1/2017</td>\n",
       "      <td>3</td>\n",
       "      <td>married</td>\n",
       "      <td>165665</td>\n",
       "      <td>6184</td>\n",
       "      <td>...</td>\n",
       "      <td>Regularly busy</td>\n",
       "      <td>Least busy days</td>\n",
       "      <td>Most orders</td>\n",
       "      <td>8</td>\n",
       "      <td>New customer</td>\n",
       "      <td>7.988889</td>\n",
       "      <td>Low spender</td>\n",
       "      <td>19.0</td>\n",
       "      <td>Regular customer</td>\n",
       "      <td>both</td>\n",
       "    </tr>\n",
       "    <tr>\n",
       "      <th>...</th>\n",
       "      <td>...</td>\n",
       "      <td>...</td>\n",
       "      <td>...</td>\n",
       "      <td>...</td>\n",
       "      <td>...</td>\n",
       "      <td>...</td>\n",
       "      <td>...</td>\n",
       "      <td>...</td>\n",
       "      <td>...</td>\n",
       "      <td>...</td>\n",
       "      <td>...</td>\n",
       "      <td>...</td>\n",
       "      <td>...</td>\n",
       "      <td>...</td>\n",
       "      <td>...</td>\n",
       "      <td>...</td>\n",
       "      <td>...</td>\n",
       "      <td>...</td>\n",
       "      <td>...</td>\n",
       "      <td>...</td>\n",
       "      <td>...</td>\n",
       "    </tr>\n",
       "    <tr>\n",
       "      <th>32404854</th>\n",
       "      <td>80148</td>\n",
       "      <td>Cynthia</td>\n",
       "      <td>Female</td>\n",
       "      <td>New York</td>\n",
       "      <td>55</td>\n",
       "      <td>4/1/2020</td>\n",
       "      <td>1</td>\n",
       "      <td>married</td>\n",
       "      <td>57095</td>\n",
       "      <td>38754</td>\n",
       "      <td>...</td>\n",
       "      <td>Regularly busy</td>\n",
       "      <td>Regularly busy days</td>\n",
       "      <td>Most orders</td>\n",
       "      <td>4</td>\n",
       "      <td>New customer</td>\n",
       "      <td>3.886667</td>\n",
       "      <td>Low spender</td>\n",
       "      <td>12.0</td>\n",
       "      <td>Regular customer</td>\n",
       "      <td>both</td>\n",
       "    </tr>\n",
       "    <tr>\n",
       "      <th>32404855</th>\n",
       "      <td>80148</td>\n",
       "      <td>Cynthia</td>\n",
       "      <td>Female</td>\n",
       "      <td>New York</td>\n",
       "      <td>55</td>\n",
       "      <td>4/1/2020</td>\n",
       "      <td>1</td>\n",
       "      <td>married</td>\n",
       "      <td>57095</td>\n",
       "      <td>39073</td>\n",
       "      <td>...</td>\n",
       "      <td>Regularly busy</td>\n",
       "      <td>Regularly busy days</td>\n",
       "      <td>Most orders</td>\n",
       "      <td>4</td>\n",
       "      <td>New customer</td>\n",
       "      <td>3.886667</td>\n",
       "      <td>Low spender</td>\n",
       "      <td>12.0</td>\n",
       "      <td>Regular customer</td>\n",
       "      <td>both</td>\n",
       "    </tr>\n",
       "    <tr>\n",
       "      <th>32404856</th>\n",
       "      <td>80148</td>\n",
       "      <td>Cynthia</td>\n",
       "      <td>Female</td>\n",
       "      <td>New York</td>\n",
       "      <td>55</td>\n",
       "      <td>4/1/2020</td>\n",
       "      <td>1</td>\n",
       "      <td>married</td>\n",
       "      <td>57095</td>\n",
       "      <td>39976</td>\n",
       "      <td>...</td>\n",
       "      <td>Regularly busy</td>\n",
       "      <td>Regularly busy days</td>\n",
       "      <td>Most orders</td>\n",
       "      <td>4</td>\n",
       "      <td>New customer</td>\n",
       "      <td>3.886667</td>\n",
       "      <td>Low spender</td>\n",
       "      <td>12.0</td>\n",
       "      <td>Regular customer</td>\n",
       "      <td>both</td>\n",
       "    </tr>\n",
       "    <tr>\n",
       "      <th>32404857</th>\n",
       "      <td>80148</td>\n",
       "      <td>Cynthia</td>\n",
       "      <td>Female</td>\n",
       "      <td>New York</td>\n",
       "      <td>55</td>\n",
       "      <td>4/1/2020</td>\n",
       "      <td>1</td>\n",
       "      <td>married</td>\n",
       "      <td>57095</td>\n",
       "      <td>41431</td>\n",
       "      <td>...</td>\n",
       "      <td>Regularly busy</td>\n",
       "      <td>Regularly busy days</td>\n",
       "      <td>Most orders</td>\n",
       "      <td>4</td>\n",
       "      <td>New customer</td>\n",
       "      <td>3.886667</td>\n",
       "      <td>Low spender</td>\n",
       "      <td>12.0</td>\n",
       "      <td>Regular customer</td>\n",
       "      <td>both</td>\n",
       "    </tr>\n",
       "    <tr>\n",
       "      <th>32404858</th>\n",
       "      <td>80148</td>\n",
       "      <td>Cynthia</td>\n",
       "      <td>Female</td>\n",
       "      <td>New York</td>\n",
       "      <td>55</td>\n",
       "      <td>4/1/2020</td>\n",
       "      <td>1</td>\n",
       "      <td>married</td>\n",
       "      <td>57095</td>\n",
       "      <td>48339</td>\n",
       "      <td>...</td>\n",
       "      <td>Regularly busy</td>\n",
       "      <td>Regularly busy days</td>\n",
       "      <td>Most orders</td>\n",
       "      <td>4</td>\n",
       "      <td>New customer</td>\n",
       "      <td>3.886667</td>\n",
       "      <td>Low spender</td>\n",
       "      <td>12.0</td>\n",
       "      <td>Regular customer</td>\n",
       "      <td>both</td>\n",
       "    </tr>\n",
       "  </tbody>\n",
       "</table>\n",
       "<p>32404859 rows × 38 columns</p>\n",
       "</div>"
      ],
      "text/plain": [
       "          user_id first_name  gender     state  age date_joined  n_dependants  \\\n",
       "0           26711    Deborah  Female  Missouri   48    1/1/2017             3   \n",
       "1           26711    Deborah  Female  Missouri   48    1/1/2017             3   \n",
       "2           26711    Deborah  Female  Missouri   48    1/1/2017             3   \n",
       "3           26711    Deborah  Female  Missouri   48    1/1/2017             3   \n",
       "4           26711    Deborah  Female  Missouri   48    1/1/2017             3   \n",
       "...           ...        ...     ...       ...  ...         ...           ...   \n",
       "32404854    80148    Cynthia  Female  New York   55    4/1/2020             1   \n",
       "32404855    80148    Cynthia  Female  New York   55    4/1/2020             1   \n",
       "32404856    80148    Cynthia  Female  New York   55    4/1/2020             1   \n",
       "32404857    80148    Cynthia  Female  New York   55    4/1/2020             1   \n",
       "32404858    80148    Cynthia  Female  New York   55    4/1/2020             1   \n",
       "\n",
       "         fam_status  income  Unnamed: 0_x  ...     busiest_day  \\\n",
       "0           married  165665           195  ...  Regularly busy   \n",
       "1           married  165665           195  ...  Regularly busy   \n",
       "2           married  165665           195  ...  Regularly busy   \n",
       "3           married  165665          6184  ...  Regularly busy   \n",
       "4           married  165665          6184  ...  Regularly busy   \n",
       "...             ...     ...           ...  ...             ...   \n",
       "32404854    married   57095         38754  ...  Regularly busy   \n",
       "32404855    married   57095         39073  ...  Regularly busy   \n",
       "32404856    married   57095         39976  ...  Regularly busy   \n",
       "32404857    married   57095         41431  ...  Regularly busy   \n",
       "32404858    married   57095         48339  ...  Regularly busy   \n",
       "\n",
       "                 busiest_days  busiest_period_of_day  max_order  loyalty_flag  \\\n",
       "0                Busiest days            Most orders          8  New customer   \n",
       "1         Regularly busy days            Most orders          8  New customer   \n",
       "2                Busiest days            Most orders          8  New customer   \n",
       "3         Regularly busy days            Most orders          8  New customer   \n",
       "4             Least busy days            Most orders          8  New customer   \n",
       "...                       ...                    ...        ...           ...   \n",
       "32404854  Regularly busy days            Most orders          4  New customer   \n",
       "32404855  Regularly busy days            Most orders          4  New customer   \n",
       "32404856  Regularly busy days            Most orders          4  New customer   \n",
       "32404857  Regularly busy days            Most orders          4  New customer   \n",
       "32404858  Regularly busy days            Most orders          4  New customer   \n",
       "\n",
       "          mean_price  spending_flag  median_days_since_prior_order  \\\n",
       "0           7.988889    Low spender                           19.0   \n",
       "1           7.988889    Low spender                           19.0   \n",
       "2           7.988889    Low spender                           19.0   \n",
       "3           7.988889    Low spender                           19.0   \n",
       "4           7.988889    Low spender                           19.0   \n",
       "...              ...            ...                            ...   \n",
       "32404854    3.886667    Low spender                           12.0   \n",
       "32404855    3.886667    Low spender                           12.0   \n",
       "32404856    3.886667    Low spender                           12.0   \n",
       "32404857    3.886667    Low spender                           12.0   \n",
       "32404858    3.886667    Low spender                           12.0   \n",
       "\n",
       "            frequency_flag  True  \n",
       "0         Regular customer  both  \n",
       "1         Regular customer  both  \n",
       "2         Regular customer  both  \n",
       "3         Regular customer  both  \n",
       "4         Regular customer  both  \n",
       "...                    ...   ...  \n",
       "32404854  Regular customer  both  \n",
       "32404855  Regular customer  both  \n",
       "32404856  Regular customer  both  \n",
       "32404857  Regular customer  both  \n",
       "32404858  Regular customer  both  \n",
       "\n",
       "[32404859 rows x 38 columns]"
      ]
     },
     "execution_count": 7,
     "metadata": {},
     "output_type": "execute_result"
    }
   ],
   "source": [
    "df_ords_prods_customers.drop(columns = ['last_name'])"
   ]
  },
  {
   "cell_type": "markdown",
   "id": "c8c32759",
   "metadata": {},
   "source": [
    "## Part 3 - Grouping States into regions "
   ]
  },
  {
   "cell_type": "code",
   "execution_count": 38,
   "id": "2ecbb9de",
   "metadata": {},
   "outputs": [],
   "source": [
    "# Assigning states to each region\n",
    "region = []\n",
    "\n",
    "for value in df_ords_prods_customers['state']:\n",
    "  if (value == 'Maine') or (value == 'New Hampshire') or (value == 'Vermont') or (value == 'Massachusetts') or (value == 'Rhode Island') or (value == 'Connecticut') or (value == 'New York') or (value == 'Pennsylvania') or (value == 'New Jersey'):\n",
    "    region.append('Northeast')\n",
    "  elif (value == 'Wisconsin') or (value == 'Michigan') or (value == 'Illinois') or (value == 'Ohio') or (value == 'North Dakota') or (value == 'South Dakota') or (value == 'Nebraska') or (value == 'Kansas') or (value == 'Minnesota') or (value == 'Iowa') or (value == 'Missouri'):\n",
    "    region.append('Midwest')\n",
    "  elif (value == 'Delaware') or (value == 'Maryland') or (value == 'District of Columbia') or (value == 'Virginia') or (value == 'West Virginia') or (value == 'North Carolina') or (value == 'South Carolina') or (value == 'Georgia') or (value == 'Florida') or (value == 'Kentucky') or (value == 'Tennessee') or (value == 'Mississippi') or (value == 'Alabama') or (value == 'Oklahoma') or (value == 'Texas') or (value == 'Arkansas') or (value == 'Louisiana'):\n",
    "    region.append('South') \n",
    "  else: \n",
    "    region.append('West')"
   ]
  },
  {
   "cell_type": "code",
   "execution_count": 39,
   "id": "05aa0c55",
   "metadata": {},
   "outputs": [],
   "source": [
    "# Creating new column for Region\n",
    "df_ords_prods_customers['Region'] = region"
   ]
  },
  {
   "cell_type": "code",
   "execution_count": 11,
   "id": "3d83e674",
   "metadata": {},
   "outputs": [
    {
     "data": {
      "text/plain": [
       "South        10791885\n",
       "West          8920195\n",
       "Midwest       6970043\n",
       "Northeast     5722736\n",
       "Name: Region, dtype: int64"
      ]
     },
     "execution_count": 11,
     "metadata": {},
     "output_type": "execute_result"
    }
   ],
   "source": [
    "# Checking results \n",
    "df_ords_prods_customers['Region'].value_counts(dropna = False)"
   ]
  },
  {
   "cell_type": "code",
   "execution_count": 12,
   "id": "b9802405",
   "metadata": {},
   "outputs": [],
   "source": [
    "# Creating crosstab to compare region with spending \n",
    "region_spending = pd.crosstab(df_ords_prods_customers['Region'], df_ords_prods_customers['spending_flag'], dropna = False)"
   ]
  },
  {
   "cell_type": "code",
   "execution_count": 13,
   "id": "520cef2b",
   "metadata": {},
   "outputs": [],
   "source": [
    "region_spending.to_clipboard()"
   ]
  },
  {
   "cell_type": "code",
   "execution_count": 14,
   "id": "aeb850b0",
   "metadata": {},
   "outputs": [
    {
     "data": {
      "text/html": [
       "<div>\n",
       "<style scoped>\n",
       "    .dataframe tbody tr th:only-of-type {\n",
       "        vertical-align: middle;\n",
       "    }\n",
       "\n",
       "    .dataframe tbody tr th {\n",
       "        vertical-align: top;\n",
       "    }\n",
       "\n",
       "    .dataframe thead th {\n",
       "        text-align: right;\n",
       "    }\n",
       "</style>\n",
       "<table border=\"1\" class=\"dataframe\">\n",
       "  <thead>\n",
       "    <tr style=\"text-align: right;\">\n",
       "      <th>spending_flag</th>\n",
       "      <th>High spender</th>\n",
       "      <th>Low spender</th>\n",
       "    </tr>\n",
       "    <tr>\n",
       "      <th>Region</th>\n",
       "      <th></th>\n",
       "      <th></th>\n",
       "    </tr>\n",
       "  </thead>\n",
       "  <tbody>\n",
       "    <tr>\n",
       "      <th>Midwest</th>\n",
       "      <td>140151</td>\n",
       "      <td>6829892</td>\n",
       "    </tr>\n",
       "    <tr>\n",
       "      <th>Northeast</th>\n",
       "      <td>108225</td>\n",
       "      <td>5614511</td>\n",
       "    </tr>\n",
       "    <tr>\n",
       "      <th>South</th>\n",
       "      <td>209691</td>\n",
       "      <td>10582194</td>\n",
       "    </tr>\n",
       "    <tr>\n",
       "      <th>West</th>\n",
       "      <td>176178</td>\n",
       "      <td>8744017</td>\n",
       "    </tr>\n",
       "  </tbody>\n",
       "</table>\n",
       "</div>"
      ],
      "text/plain": [
       "spending_flag  High spender  Low spender\n",
       "Region                                  \n",
       "Midwest              140151      6829892\n",
       "Northeast            108225      5614511\n",
       "South                209691     10582194\n",
       "West                 176178      8744017"
      ]
     },
     "execution_count": 14,
     "metadata": {},
     "output_type": "execute_result"
    }
   ],
   "source": [
    "region_spending"
   ]
  },
  {
   "cell_type": "markdown",
   "id": "9d51da1c",
   "metadata": {},
   "source": [
    "## Part 4 - Creating exclusion flag for low-activity customers "
   ]
  },
  {
   "cell_type": "code",
   "execution_count": 8,
   "id": "eabb3505",
   "metadata": {},
   "outputs": [],
   "source": [
    "#Creating flag for low activity customers\n",
    "df_ords_prods_customers.loc[df_ords_prods_customers['max_order'] < 5, 'low_activity_flag'] = 'Low Activity'"
   ]
  },
  {
   "cell_type": "code",
   "execution_count": 9,
   "id": "a52ec6fe",
   "metadata": {},
   "outputs": [],
   "source": [
    "df_ords_prods_customers.loc[df_ords_prods_customers['max_order'] >= 5, 'low_activity_flag'] = 'High Activity'"
   ]
  },
  {
   "cell_type": "code",
   "execution_count": 8,
   "id": "12f07873",
   "metadata": {
    "scrolled": true
   },
   "outputs": [
    {
     "data": {
      "text/plain": [
       "High Activity    30964564\n",
       "Low Activity      1440295\n",
       "Name: low_activity_flag, dtype: int64"
      ]
     },
     "execution_count": 8,
     "metadata": {},
     "output_type": "execute_result"
    }
   ],
   "source": [
    "# Checking results of flag \n",
    "df_ords_prods_customers['low_activity_flag'].value_counts(dropna = False)"
   ]
  },
  {
   "cell_type": "code",
   "execution_count": 10,
   "id": "0d2e8e33",
   "metadata": {},
   "outputs": [],
   "source": [
    "# Creating new df to only include \"High Activity\" customers\n",
    "df_ords_prods_customers_active = df_ords_prods_customers[df_ords_prods_customers['low_activity_flag'] == 'High Activity']"
   ]
  },
  {
   "cell_type": "code",
   "execution_count": 10,
   "id": "8418e6ea",
   "metadata": {},
   "outputs": [
    {
     "data": {
      "text/plain": [
       "High Activity    30964564\n",
       "Name: low_activity_flag, dtype: int64"
      ]
     },
     "execution_count": 10,
     "metadata": {},
     "output_type": "execute_result"
    }
   ],
   "source": [
    "# Checking results of new df \n",
    "df_ords_prods_customers_active['low_activity_flag'].value_counts(dropna = False)"
   ]
  },
  {
   "cell_type": "code",
   "execution_count": 25,
   "id": "4d21d850",
   "metadata": {},
   "outputs": [],
   "source": [
    "# Exporting new df \n",
    "df_ords_prods_customers_active.to_pickle(os.path.join(path, '02 Data','Prepared Data', 'orders_products_customers_active.pkl'))"
   ]
  },
  {
   "cell_type": "markdown",
   "id": "9d15e845",
   "metadata": {},
   "source": [
    "## Part 5 - Creating Customer Profiles"
   ]
  },
  {
   "cell_type": "markdown",
   "id": "025b3f15",
   "metadata": {},
   "source": [
    "Age \n",
    "    Young Adult <=25\n",
    "    Adult >=26 < 65\n",
    "    Senior >= 65\n",
    "    \n",
    "Income \n",
    "    Low income <=40,000\n",
    "    Middle income >40,000 <=150,000\n",
    "    High Income >150,000\n",
    "    \n",
    "Family Status \n",
    "    number of dependants >= 1 , Family \n",
    "    number of dependants = 0, Single Adult\n",
    " \n",
    "    "
   ]
  },
  {
   "cell_type": "code",
   "execution_count": 12,
   "id": "b8dca52e",
   "metadata": {},
   "outputs": [],
   "source": [
    "# Creating profile for age \n",
    "df_ords_prods_customers_active.loc[df_ords_prods_customers_active['age'] <=25, 'age_profile'] = 'Young Adult'"
   ]
  },
  {
   "cell_type": "code",
   "execution_count": 13,
   "id": "4fa66970",
   "metadata": {},
   "outputs": [],
   "source": [
    "df_ords_prods_customers_active.loc[(df_ords_prods_customers_active['age'] >=26) & (df_ords_prods_customers_active['age'] < 65), 'age_profile'] = 'Adult'"
   ]
  },
  {
   "cell_type": "code",
   "execution_count": 14,
   "id": "cbff63cb",
   "metadata": {},
   "outputs": [],
   "source": [
    "df_ords_prods_customers_active.loc[df_ords_prods_customers_active['age'] >=65, 'age_profile'] = 'Senior'"
   ]
  },
  {
   "cell_type": "code",
   "execution_count": 14,
   "id": "fa895e3d",
   "metadata": {},
   "outputs": [
    {
     "data": {
      "text/plain": [
       "Adult          18904502\n",
       "Senior          8195544\n",
       "Young Adult     3864518\n",
       "Name: age_profile, dtype: int64"
      ]
     },
     "execution_count": 14,
     "metadata": {},
     "output_type": "execute_result"
    }
   ],
   "source": [
    "# Checking results \n",
    "df_ords_prods_customers_active['age_profile'].value_counts(dropna = False)"
   ]
  },
  {
   "cell_type": "code",
   "execution_count": 16,
   "id": "e14d8e2f",
   "metadata": {},
   "outputs": [],
   "source": [
    "# Creating profiles for income\n",
    "df_ords_prods_customers_active.loc[df_ords_prods_customers_active['income'] <=40000, 'income_profile'] = 'Low Income'"
   ]
  },
  {
   "cell_type": "code",
   "execution_count": 17,
   "id": "b1521321",
   "metadata": {},
   "outputs": [],
   "source": [
    "df_ords_prods_customers_active.loc[(df_ords_prods_customers_active['income'] >40000) & (df_ords_prods_customers_active['income'] <= 150000), 'income_profile'] = 'Middle Income'"
   ]
  },
  {
   "cell_type": "code",
   "execution_count": 18,
   "id": "f2e03d62",
   "metadata": {},
   "outputs": [],
   "source": [
    "df_ords_prods_customers_active.loc[df_ords_prods_customers_active['income'] >150000, 'income_profile'] = 'High Income'"
   ]
  },
  {
   "cell_type": "code",
   "execution_count": 35,
   "id": "aa35bf91",
   "metadata": {},
   "outputs": [
    {
     "data": {
      "text/plain": [
       "Middle Income    25458005\n",
       "High Income       3894534\n",
       "Low Income        1612025\n",
       "Name: income_profile, dtype: int64"
      ]
     },
     "execution_count": 35,
     "metadata": {},
     "output_type": "execute_result"
    }
   ],
   "source": [
    "# Checking results \n",
    "df_ords_prods_customers_active['income_profile'].value_counts(dropna = False)"
   ]
  },
  {
   "cell_type": "code",
   "execution_count": null,
   "id": "57bc6636",
   "metadata": {},
   "outputs": [],
   "source": [
    "# Creating profile for family status"
   ]
  },
  {
   "cell_type": "code",
   "execution_count": 20,
   "id": "3d2053ef",
   "metadata": {},
   "outputs": [],
   "source": [
    "df_ords_prods_customers_active.loc[(df_ords_prods_customers_active['n_dependants'] == 0), 'family_profile'] = 'Single Adult'"
   ]
  },
  {
   "cell_type": "code",
   "execution_count": 21,
   "id": "5fd33374",
   "metadata": {},
   "outputs": [],
   "source": [
    "df_ords_prods_customers_active.loc[(df_ords_prods_customers_active['n_dependants'] != 0), 'family_profile'] = 'Family'"
   ]
  },
  {
   "cell_type": "code",
   "execution_count": 64,
   "id": "613745a9",
   "metadata": {},
   "outputs": [
    {
     "data": {
      "text/plain": [
       "Family          23224883\n",
       "Single Adult     7739681\n",
       "Name: family_profile, dtype: int64"
      ]
     },
     "execution_count": 64,
     "metadata": {},
     "output_type": "execute_result"
    }
   ],
   "source": [
    "# Checking results\n",
    "df_ords_prods_customers_active['family_profile'].value_counts(dropna = False)"
   ]
  },
  {
   "cell_type": "markdown",
   "id": "37b2022d",
   "metadata": {},
   "source": [
    "## Part 6 - Creating visualizations for customer profiles "
   ]
  },
  {
   "cell_type": "code",
   "execution_count": null,
   "id": "5f9b86dd",
   "metadata": {},
   "outputs": [],
   "source": [
    "# Visualization for Age Customer profile "
   ]
  },
  {
   "cell_type": "code",
   "execution_count": 74,
   "id": "4b44fd3a",
   "metadata": {},
   "outputs": [
    {
     "data": {
      "text/plain": [
       "(array([0, 1, 2]),\n",
       " [Text(0, 0, 'Adult'), Text(1, 0, 'Senior'), Text(2, 0, 'Young Adult')])"
      ]
     },
     "execution_count": 74,
     "metadata": {},
     "output_type": "execute_result"
    },
    {
     "data": {
      "image/png": "[encoded data removed]",
      "text/plain": [
       "<Figure size 640x480 with 1 Axes>"
      ]
     },
     "metadata": {},
     "output_type": "display_data"
    }
   ],
   "source": [
    "age_profile_bar = df_ords_prods_customers_active['age_profile'].value_counts().plot.bar(color = ['darkgreen', 'green', 'lightgreen'])\n",
    "plt.xticks(rotation=360)"
   ]
  },
  {
   "cell_type": "code",
   "execution_count": 75,
   "id": "2b81a3bd",
   "metadata": {},
   "outputs": [],
   "source": [
    "age_profile_bar.figure.savefig(os.path.join(path, '04 Analysis','Visualizations', 'age_profile_bar.png'))"
   ]
  },
  {
   "cell_type": "code",
   "execution_count": null,
   "id": "8b89f61e",
   "metadata": {},
   "outputs": [],
   "source": [
    "# Visualization for Income_Profile "
   ]
  },
  {
   "cell_type": "code",
   "execution_count": 72,
   "id": "45d7b86f",
   "metadata": {},
   "outputs": [
    {
     "data": {
      "text/plain": [
       "(array([0, 1, 2]),\n",
       " [Text(0, 0, 'Middle Income'),\n",
       "  Text(1, 0, 'High Income'),\n",
       "  Text(2, 0, 'Low Income')])"
      ]
     },
     "execution_count": 72,
     "metadata": {},
     "output_type": "execute_result"
    },
    {
     "data": {
      "image/png": "[encoded data removed]",
      "text/plain": [
       "<Figure size 640x480 with 1 Axes>"
      ]
     },
     "metadata": {},
     "output_type": "display_data"
    }
   ],
   "source": [
    "income_profile_bar = df_ords_prods_customers_active['income_profile'].value_counts().plot.bar(color = ['darkgreen', 'green', 'lightgreen'])\n",
    "plt.xticks(rotation=360)"
   ]
  },
  {
   "cell_type": "code",
   "execution_count": 73,
   "id": "cabceaca",
   "metadata": {},
   "outputs": [],
   "source": [
    "income_profile_bar.figure.savefig(os.path.join(path, '04 Analysis','Visualizations', 'income_profile_bar.png'))"
   ]
  },
  {
   "cell_type": "code",
   "execution_count": null,
   "id": "49a8e199",
   "metadata": {},
   "outputs": [],
   "source": [
    "# Visualization for Family Status "
   ]
  },
  {
   "cell_type": "code",
   "execution_count": 65,
   "id": "3410e0a3",
   "metadata": {},
   "outputs": [
    {
     "data": {
      "image/png": "[encoded data removed]",
      "text/plain": [
       "<Figure size 640x480 with 1 Axes>"
      ]
     },
     "metadata": {},
     "output_type": "display_data"
    }
   ],
   "source": [
    "family_profile_pie = df_ords_prods_customers_active['family_profile'].value_counts().plot.pie(title = 'Family Profile Chart', label = '', autopct = ('%1.f%%'))"
   ]
  },
  {
   "cell_type": "code",
   "execution_count": 145,
   "id": "442c6bad",
   "metadata": {},
   "outputs": [],
   "source": [
    "family_profile_pie.figure.savefig(os.path.join(path, '04 Analysis','Visualizations', 'family_profile_pie.png'))"
   ]
  },
  {
   "cell_type": "markdown",
   "id": "99d32faa",
   "metadata": {},
   "source": [
    "## Part 7 - Aggregate the max, mean, and min variables on a customer-profile level for usage frequency and expenditure"
   ]
  },
  {
   "cell_type": "code",
   "execution_count": 74,
   "id": "575bfd52",
   "metadata": {},
   "outputs": [
    {
     "data": {
      "text/html": [
       "<div>\n",
       "<style scoped>\n",
       "    .dataframe tbody tr th:only-of-type {\n",
       "        vertical-align: middle;\n",
       "    }\n",
       "\n",
       "    .dataframe tbody tr th {\n",
       "        vertical-align: top;\n",
       "    }\n",
       "\n",
       "    .dataframe thead tr th {\n",
       "        text-align: left;\n",
       "    }\n",
       "\n",
       "    .dataframe thead tr:last-of-type th {\n",
       "        text-align: right;\n",
       "    }\n",
       "</style>\n",
       "<table border=\"1\" class=\"dataframe\">\n",
       "  <thead>\n",
       "    <tr>\n",
       "      <th></th>\n",
       "      <th colspan=\"3\" halign=\"left\">prices</th>\n",
       "      <th colspan=\"3\" halign=\"left\">days_since_prior_order</th>\n",
       "    </tr>\n",
       "    <tr>\n",
       "      <th></th>\n",
       "      <th>mean</th>\n",
       "      <th>max</th>\n",
       "      <th>min</th>\n",
       "      <th>mean</th>\n",
       "      <th>max</th>\n",
       "      <th>min</th>\n",
       "    </tr>\n",
       "    <tr>\n",
       "      <th>age_profile</th>\n",
       "      <th></th>\n",
       "      <th></th>\n",
       "      <th></th>\n",
       "      <th></th>\n",
       "      <th></th>\n",
       "      <th></th>\n",
       "    </tr>\n",
       "  </thead>\n",
       "  <tbody>\n",
       "    <tr>\n",
       "      <th>Adult</th>\n",
       "      <td>11.953327</td>\n",
       "      <td>99999.0</td>\n",
       "      <td>1.0</td>\n",
       "      <td>10.820618</td>\n",
       "      <td>30.0</td>\n",
       "      <td>0.0</td>\n",
       "    </tr>\n",
       "    <tr>\n",
       "      <th>Senior</th>\n",
       "      <td>11.757768</td>\n",
       "      <td>99999.0</td>\n",
       "      <td>1.0</td>\n",
       "      <td>10.791788</td>\n",
       "      <td>30.0</td>\n",
       "      <td>0.0</td>\n",
       "    </tr>\n",
       "    <tr>\n",
       "      <th>Young Adult</th>\n",
       "      <td>12.209359</td>\n",
       "      <td>99999.0</td>\n",
       "      <td>1.0</td>\n",
       "      <td>10.799071</td>\n",
       "      <td>30.0</td>\n",
       "      <td>0.0</td>\n",
       "    </tr>\n",
       "  </tbody>\n",
       "</table>\n",
       "</div>"
      ],
      "text/plain": [
       "                prices               days_since_prior_order           \n",
       "                  mean      max  min                   mean   max  min\n",
       "age_profile                                                           \n",
       "Adult        11.953327  99999.0  1.0              10.820618  30.0  0.0\n",
       "Senior       11.757768  99999.0  1.0              10.791788  30.0  0.0\n",
       "Young Adult  12.209359  99999.0  1.0              10.799071  30.0  0.0"
      ]
     },
     "execution_count": 74,
     "metadata": {},
     "output_type": "execute_result"
    }
   ],
   "source": [
    "# Statistics for age_profile\n",
    "df_ords_prods_customers_active.groupby('age_profile').agg({'prices': ['mean', 'max', 'min'], 'days_since_prior_order': ['mean', 'max', 'min']})"
   ]
  },
  {
   "cell_type": "code",
   "execution_count": 75,
   "id": "0bd8051b",
   "metadata": {},
   "outputs": [
    {
     "data": {
      "text/html": [
       "<div>\n",
       "<style scoped>\n",
       "    .dataframe tbody tr th:only-of-type {\n",
       "        vertical-align: middle;\n",
       "    }\n",
       "\n",
       "    .dataframe tbody tr th {\n",
       "        vertical-align: top;\n",
       "    }\n",
       "\n",
       "    .dataframe thead tr th {\n",
       "        text-align: left;\n",
       "    }\n",
       "\n",
       "    .dataframe thead tr:last-of-type th {\n",
       "        text-align: right;\n",
       "    }\n",
       "</style>\n",
       "<table border=\"1\" class=\"dataframe\">\n",
       "  <thead>\n",
       "    <tr>\n",
       "      <th></th>\n",
       "      <th colspan=\"3\" halign=\"left\">prices</th>\n",
       "      <th colspan=\"3\" halign=\"left\">days_since_prior_order</th>\n",
       "    </tr>\n",
       "    <tr>\n",
       "      <th></th>\n",
       "      <th>mean</th>\n",
       "      <th>max</th>\n",
       "      <th>min</th>\n",
       "      <th>mean</th>\n",
       "      <th>max</th>\n",
       "      <th>min</th>\n",
       "    </tr>\n",
       "    <tr>\n",
       "      <th>income_profile</th>\n",
       "      <th></th>\n",
       "      <th></th>\n",
       "      <th></th>\n",
       "      <th></th>\n",
       "      <th></th>\n",
       "      <th></th>\n",
       "    </tr>\n",
       "  </thead>\n",
       "  <tbody>\n",
       "    <tr>\n",
       "      <th>High Income</th>\n",
       "      <td>32.620080</td>\n",
       "      <td>99999.0</td>\n",
       "      <td>1.0</td>\n",
       "      <td>10.684293</td>\n",
       "      <td>30.0</td>\n",
       "      <td>0.0</td>\n",
       "    </tr>\n",
       "    <tr>\n",
       "      <th>Low Income</th>\n",
       "      <td>6.502895</td>\n",
       "      <td>25.0</td>\n",
       "      <td>1.0</td>\n",
       "      <td>11.273673</td>\n",
       "      <td>30.0</td>\n",
       "      <td>0.0</td>\n",
       "    </tr>\n",
       "    <tr>\n",
       "      <th>Middle Income</th>\n",
       "      <td>9.112789</td>\n",
       "      <td>99999.0</td>\n",
       "      <td>1.0</td>\n",
       "      <td>10.800400</td>\n",
       "      <td>30.0</td>\n",
       "      <td>0.0</td>\n",
       "    </tr>\n",
       "  </tbody>\n",
       "</table>\n",
       "</div>"
      ],
      "text/plain": [
       "                   prices               days_since_prior_order           \n",
       "                     mean      max  min                   mean   max  min\n",
       "income_profile                                                           \n",
       "High Income     32.620080  99999.0  1.0              10.684293  30.0  0.0\n",
       "Low Income       6.502895     25.0  1.0              11.273673  30.0  0.0\n",
       "Middle Income    9.112789  99999.0  1.0              10.800400  30.0  0.0"
      ]
     },
     "execution_count": 75,
     "metadata": {},
     "output_type": "execute_result"
    }
   ],
   "source": [
    "# Statistics for income_profile\n",
    "df_ords_prods_customers_active.groupby('income_profile').agg({'prices': ['mean', 'max', 'min'], 'days_since_prior_order': ['mean', 'max', 'min']})"
   ]
  },
  {
   "cell_type": "code",
   "execution_count": 76,
   "id": "af2afe70",
   "metadata": {},
   "outputs": [
    {
     "data": {
      "text/html": [
       "<div>\n",
       "<style scoped>\n",
       "    .dataframe tbody tr th:only-of-type {\n",
       "        vertical-align: middle;\n",
       "    }\n",
       "\n",
       "    .dataframe tbody tr th {\n",
       "        vertical-align: top;\n",
       "    }\n",
       "\n",
       "    .dataframe thead tr th {\n",
       "        text-align: left;\n",
       "    }\n",
       "\n",
       "    .dataframe thead tr:last-of-type th {\n",
       "        text-align: right;\n",
       "    }\n",
       "</style>\n",
       "<table border=\"1\" class=\"dataframe\">\n",
       "  <thead>\n",
       "    <tr>\n",
       "      <th></th>\n",
       "      <th colspan=\"3\" halign=\"left\">prices</th>\n",
       "      <th colspan=\"3\" halign=\"left\">days_since_prior_order</th>\n",
       "    </tr>\n",
       "    <tr>\n",
       "      <th></th>\n",
       "      <th>mean</th>\n",
       "      <th>max</th>\n",
       "      <th>min</th>\n",
       "      <th>mean</th>\n",
       "      <th>max</th>\n",
       "      <th>min</th>\n",
       "    </tr>\n",
       "    <tr>\n",
       "      <th>family_profile</th>\n",
       "      <th></th>\n",
       "      <th></th>\n",
       "      <th></th>\n",
       "      <th></th>\n",
       "      <th></th>\n",
       "      <th></th>\n",
       "    </tr>\n",
       "  </thead>\n",
       "  <tbody>\n",
       "    <tr>\n",
       "      <th>Family</th>\n",
       "      <td>11.877157</td>\n",
       "      <td>99999.0</td>\n",
       "      <td>1.0</td>\n",
       "      <td>10.816416</td>\n",
       "      <td>30.0</td>\n",
       "      <td>0.0</td>\n",
       "    </tr>\n",
       "    <tr>\n",
       "      <th>Single Adult</th>\n",
       "      <td>12.102657</td>\n",
       "      <td>99999.0</td>\n",
       "      <td>1.0</td>\n",
       "      <td>10.791951</td>\n",
       "      <td>30.0</td>\n",
       "      <td>0.0</td>\n",
       "    </tr>\n",
       "  </tbody>\n",
       "</table>\n",
       "</div>"
      ],
      "text/plain": [
       "                   prices               days_since_prior_order           \n",
       "                     mean      max  min                   mean   max  min\n",
       "family_profile                                                           \n",
       "Family          11.877157  99999.0  1.0              10.816416  30.0  0.0\n",
       "Single Adult    12.102657  99999.0  1.0              10.791951  30.0  0.0"
      ]
     },
     "execution_count": 76,
     "metadata": {},
     "output_type": "execute_result"
    }
   ],
   "source": [
    "# Statistics for family_profile\n",
    "df_ords_prods_customers_active.groupby('family_profile').agg({'prices': ['mean', 'max', 'min'], 'days_since_prior_order': ['mean', 'max', 'min']})"
   ]
  },
  {
   "cell_type": "markdown",
   "id": "877bd132",
   "metadata": {},
   "source": [
    "## Part 8 Compare customer profiles with regions and departments"
   ]
  },
  {
   "cell_type": "code",
   "execution_count": 78,
   "id": "3a1c8ef3",
   "metadata": {},
   "outputs": [],
   "source": [
    "# Age compared to region\n",
    "age_region_cross = pd.crosstab(df_ords_prods_customers_active['Region'], df_ords_prods_customers_active['age_profile'], dropna = False)"
   ]
  },
  {
   "cell_type": "code",
   "execution_count": 79,
   "id": "b3819a2f",
   "metadata": {},
   "outputs": [],
   "source": [
    "age_region_cross.to_clipboard()"
   ]
  },
  {
   "cell_type": "code",
   "execution_count": 80,
   "id": "58712b39",
   "metadata": {},
   "outputs": [
    {
     "data": {
      "text/html": [
       "<div>\n",
       "<style scoped>\n",
       "    .dataframe tbody tr th:only-of-type {\n",
       "        vertical-align: middle;\n",
       "    }\n",
       "\n",
       "    .dataframe tbody tr th {\n",
       "        vertical-align: top;\n",
       "    }\n",
       "\n",
       "    .dataframe thead th {\n",
       "        text-align: right;\n",
       "    }\n",
       "</style>\n",
       "<table border=\"1\" class=\"dataframe\">\n",
       "  <thead>\n",
       "    <tr style=\"text-align: right;\">\n",
       "      <th>age_profile</th>\n",
       "      <th>Adult</th>\n",
       "      <th>Senior</th>\n",
       "      <th>Young Adult</th>\n",
       "    </tr>\n",
       "    <tr>\n",
       "      <th>Region</th>\n",
       "      <th></th>\n",
       "      <th></th>\n",
       "      <th></th>\n",
       "    </tr>\n",
       "  </thead>\n",
       "  <tbody>\n",
       "    <tr>\n",
       "      <th>Midwest</th>\n",
       "      <td>4089332</td>\n",
       "      <td>1750332</td>\n",
       "      <td>821131</td>\n",
       "    </tr>\n",
       "    <tr>\n",
       "      <th>Northeast</th>\n",
       "      <td>3299969</td>\n",
       "      <td>1484807</td>\n",
       "      <td>679909</td>\n",
       "    </tr>\n",
       "    <tr>\n",
       "      <th>South</th>\n",
       "      <td>6287689</td>\n",
       "      <td>2708461</td>\n",
       "      <td>1314989</td>\n",
       "    </tr>\n",
       "    <tr>\n",
       "      <th>West</th>\n",
       "      <td>5227512</td>\n",
       "      <td>2251944</td>\n",
       "      <td>1048489</td>\n",
       "    </tr>\n",
       "  </tbody>\n",
       "</table>\n",
       "</div>"
      ],
      "text/plain": [
       "age_profile    Adult   Senior  Young Adult\n",
       "Region                                    \n",
       "Midwest      4089332  1750332       821131\n",
       "Northeast    3299969  1484807       679909\n",
       "South        6287689  2708461      1314989\n",
       "West         5227512  2251944      1048489"
      ]
     },
     "execution_count": 80,
     "metadata": {},
     "output_type": "execute_result"
    }
   ],
   "source": [
    "age_region_cross"
   ]
  },
  {
   "cell_type": "code",
   "execution_count": 100,
   "id": "f312dc05",
   "metadata": {},
   "outputs": [
    {
     "data": {
      "image/png": "[encoded data removed]",
      "text/plain": [
       "<Figure size 640x480 with 1 Axes>"
      ]
     },
     "metadata": {},
     "output_type": "display_data"
    }
   ],
   "source": [
    "age_region = age_region_cross.plot(kind = 'barh', color = sns.color_palette('Greens', 3))\n",
    "plt.legend(loc='lower right')\n",
    "plt.ylabel('Regions', fontweight = 'bold')\n",
    "plt.title('Age Profiles by Region', fontweight = 'bold')\n",
    "plt.show()"
   ]
  },
  {
   "cell_type": "code",
   "execution_count": 146,
   "id": "bc588e5f",
   "metadata": {},
   "outputs": [],
   "source": [
    "age_region.figure.savefig(os.path.join(path, '04 Analysis','Visualizations', 'age_region.png'))"
   ]
  },
  {
   "cell_type": "code",
   "execution_count": null,
   "id": "047ec121",
   "metadata": {},
   "outputs": [],
   "source": [
    "# Age compared to departments"
   ]
  },
  {
   "cell_type": "code",
   "execution_count": 120,
   "id": "4ac1ef36",
   "metadata": {},
   "outputs": [],
   "source": [
    "df_dept_merged = df_ords_prods_customers_active.merge(df_depts, on = 'department_id')"
   ]
  },
  {
   "cell_type": "code",
   "execution_count": 121,
   "id": "10954b31",
   "metadata": {},
   "outputs": [],
   "source": [
    "age_dept_cross = pd.crosstab(df_dept_merged['department'], df_ords_prods_customers_active['age_profile'], dropna = False)"
   ]
  },
  {
   "cell_type": "code",
   "execution_count": 107,
   "id": "890d11d9",
   "metadata": {},
   "outputs": [],
   "source": [
    "age_dept_cross.to_clipboard()"
   ]
  },
  {
   "cell_type": "code",
   "execution_count": 108,
   "id": "351ff22e",
   "metadata": {},
   "outputs": [
    {
     "data": {
      "text/html": [
       "<div>\n",
       "<style scoped>\n",
       "    .dataframe tbody tr th:only-of-type {\n",
       "        vertical-align: middle;\n",
       "    }\n",
       "\n",
       "    .dataframe tbody tr th {\n",
       "        vertical-align: top;\n",
       "    }\n",
       "\n",
       "    .dataframe thead th {\n",
       "        text-align: right;\n",
       "    }\n",
       "</style>\n",
       "<table border=\"1\" class=\"dataframe\">\n",
       "  <thead>\n",
       "    <tr style=\"text-align: right;\">\n",
       "      <th>age_profile</th>\n",
       "      <th>Adult</th>\n",
       "      <th>Senior</th>\n",
       "      <th>Young Adult</th>\n",
       "    </tr>\n",
       "    <tr>\n",
       "      <th>department</th>\n",
       "      <th></th>\n",
       "      <th></th>\n",
       "      <th></th>\n",
       "    </tr>\n",
       "  </thead>\n",
       "  <tbody>\n",
       "    <tr>\n",
       "      <th>alcohol</th>\n",
       "      <td>85192</td>\n",
       "      <td>36734</td>\n",
       "      <td>16058</td>\n",
       "    </tr>\n",
       "    <tr>\n",
       "      <th>babies</th>\n",
       "      <td>232524</td>\n",
       "      <td>106419</td>\n",
       "      <td>55287</td>\n",
       "    </tr>\n",
       "    <tr>\n",
       "      <th>bakery</th>\n",
       "      <td>650950</td>\n",
       "      <td>278514</td>\n",
       "      <td>139914</td>\n",
       "    </tr>\n",
       "    <tr>\n",
       "      <th>beverages</th>\n",
       "      <td>1503106</td>\n",
       "      <td>652968</td>\n",
       "      <td>300210</td>\n",
       "    </tr>\n",
       "    <tr>\n",
       "      <th>breakfast</th>\n",
       "      <td>394198</td>\n",
       "      <td>167672</td>\n",
       "      <td>80519</td>\n",
       "    </tr>\n",
       "    <tr>\n",
       "      <th>bulk</th>\n",
       "      <td>18909</td>\n",
       "      <td>9584</td>\n",
       "      <td>3004</td>\n",
       "    </tr>\n",
       "    <tr>\n",
       "      <th>canned goods</th>\n",
       "      <td>598552</td>\n",
       "      <td>255109</td>\n",
       "      <td>115032</td>\n",
       "    </tr>\n",
       "    <tr>\n",
       "      <th>dairy eggs</th>\n",
       "      <td>3016019</td>\n",
       "      <td>1319622</td>\n",
       "      <td>615381</td>\n",
       "    </tr>\n",
       "    <tr>\n",
       "      <th>deli</th>\n",
       "      <td>593451</td>\n",
       "      <td>248457</td>\n",
       "      <td>117444</td>\n",
       "    </tr>\n",
       "    <tr>\n",
       "      <th>dry goods pasta</th>\n",
       "      <td>478147</td>\n",
       "      <td>207834</td>\n",
       "      <td>99532</td>\n",
       "    </tr>\n",
       "    <tr>\n",
       "      <th>frozen</th>\n",
       "      <td>1253266</td>\n",
       "      <td>522934</td>\n",
       "      <td>250452</td>\n",
       "    </tr>\n",
       "    <tr>\n",
       "      <th>household</th>\n",
       "      <td>404122</td>\n",
       "      <td>186318</td>\n",
       "      <td>78415</td>\n",
       "    </tr>\n",
       "    <tr>\n",
       "      <th>international</th>\n",
       "      <td>159332</td>\n",
       "      <td>59177</td>\n",
       "      <td>25299</td>\n",
       "    </tr>\n",
       "    <tr>\n",
       "      <th>meat seafood</th>\n",
       "      <td>378123</td>\n",
       "      <td>179029</td>\n",
       "      <td>85256</td>\n",
       "    </tr>\n",
       "    <tr>\n",
       "      <th>missing</th>\n",
       "      <td>39439</td>\n",
       "      <td>14612</td>\n",
       "      <td>7678</td>\n",
       "    </tr>\n",
       "    <tr>\n",
       "      <th>other</th>\n",
       "      <td>17971</td>\n",
       "      <td>9354</td>\n",
       "      <td>5725</td>\n",
       "    </tr>\n",
       "    <tr>\n",
       "      <th>pantry</th>\n",
       "      <td>1017098</td>\n",
       "      <td>471421</td>\n",
       "      <td>214495</td>\n",
       "    </tr>\n",
       "    <tr>\n",
       "      <th>personal care</th>\n",
       "      <td>254172</td>\n",
       "      <td>104603</td>\n",
       "      <td>49683</td>\n",
       "    </tr>\n",
       "    <tr>\n",
       "      <th>pets</th>\n",
       "      <td>56943</td>\n",
       "      <td>22761</td>\n",
       "      <td>8477</td>\n",
       "    </tr>\n",
       "    <tr>\n",
       "      <th>produce</th>\n",
       "      <td>5284017</td>\n",
       "      <td>2273555</td>\n",
       "      <td>1117060</td>\n",
       "    </tr>\n",
       "    <tr>\n",
       "      <th>snacks</th>\n",
       "      <td>1613425</td>\n",
       "      <td>712215</td>\n",
       "      <td>317327</td>\n",
       "    </tr>\n",
       "  </tbody>\n",
       "</table>\n",
       "</div>"
      ],
      "text/plain": [
       "age_profile        Adult   Senior  Young Adult\n",
       "department                                    \n",
       "alcohol            85192    36734        16058\n",
       "babies            232524   106419        55287\n",
       "bakery            650950   278514       139914\n",
       "beverages        1503106   652968       300210\n",
       "breakfast         394198   167672        80519\n",
       "bulk               18909     9584         3004\n",
       "canned goods      598552   255109       115032\n",
       "dairy eggs       3016019  1319622       615381\n",
       "deli              593451   248457       117444\n",
       "dry goods pasta   478147   207834        99532\n",
       "frozen           1253266   522934       250452\n",
       "household         404122   186318        78415\n",
       "international     159332    59177        25299\n",
       "meat seafood      378123   179029        85256\n",
       "missing            39439    14612         7678\n",
       "other              17971     9354         5725\n",
       "pantry           1017098   471421       214495\n",
       "personal care     254172   104603        49683\n",
       "pets               56943    22761         8477\n",
       "produce          5284017  2273555      1117060\n",
       "snacks           1613425   712215       317327"
      ]
     },
     "execution_count": 108,
     "metadata": {},
     "output_type": "execute_result"
    }
   ],
   "source": [
    "age_dept_cross"
   ]
  },
  {
   "cell_type": "code",
   "execution_count": 122,
   "id": "cf365f10",
   "metadata": {},
   "outputs": [
    {
     "data": {
      "image/png": "[encoded data removed]",
      "text/plain": [
       "<Figure size 640x480 with 1 Axes>"
      ]
     },
     "metadata": {},
     "output_type": "display_data"
    }
   ],
   "source": [
    "age_dept = age_dept_cross.plot(kind = 'barh', color = sns.color_palette('Greens', 3))\n",
    "plt.legend(loc='lower right')\n",
    "plt.ylabel('Department', fontweight = 'bold')\n",
    "plt.title('Age Profile by Department', fontweight = 'bold')\n",
    "plt.show()"
   ]
  },
  {
   "cell_type": "code",
   "execution_count": 123,
   "id": "0d24ed74",
   "metadata": {},
   "outputs": [],
   "source": [
    "age_dept.figure.savefig(os.path.join(path, '04 Analysis','Visualizations', 'age_dept.png'))"
   ]
  },
  {
   "cell_type": "code",
   "execution_count": 85,
   "id": "8cb02983",
   "metadata": {},
   "outputs": [],
   "source": [
    "# Income compared to Region\n",
    "income_region_cross = pd.crosstab(df_ords_prods_customers_active['Region'], df_ords_prods_customers_active['income_profile'], dropna = False)"
   ]
  },
  {
   "cell_type": "code",
   "execution_count": 86,
   "id": "c5c17d56",
   "metadata": {},
   "outputs": [],
   "source": [
    "income_region_cross.to_clipboard()"
   ]
  },
  {
   "cell_type": "code",
   "execution_count": 87,
   "id": "0ec1ebca",
   "metadata": {},
   "outputs": [
    {
     "data": {
      "text/html": [
       "<div>\n",
       "<style scoped>\n",
       "    .dataframe tbody tr th:only-of-type {\n",
       "        vertical-align: middle;\n",
       "    }\n",
       "\n",
       "    .dataframe tbody tr th {\n",
       "        vertical-align: top;\n",
       "    }\n",
       "\n",
       "    .dataframe thead th {\n",
       "        text-align: right;\n",
       "    }\n",
       "</style>\n",
       "<table border=\"1\" class=\"dataframe\">\n",
       "  <thead>\n",
       "    <tr style=\"text-align: right;\">\n",
       "      <th>income_profile</th>\n",
       "      <th>High Income</th>\n",
       "      <th>Low Income</th>\n",
       "      <th>Middle Income</th>\n",
       "    </tr>\n",
       "    <tr>\n",
       "      <th>Region</th>\n",
       "      <th></th>\n",
       "      <th></th>\n",
       "      <th></th>\n",
       "    </tr>\n",
       "  </thead>\n",
       "  <tbody>\n",
       "    <tr>\n",
       "      <th>Midwest</th>\n",
       "      <td>838034</td>\n",
       "      <td>343277</td>\n",
       "      <td>5479484</td>\n",
       "    </tr>\n",
       "    <tr>\n",
       "      <th>Northeast</th>\n",
       "      <td>677680</td>\n",
       "      <td>283124</td>\n",
       "      <td>4503881</td>\n",
       "    </tr>\n",
       "    <tr>\n",
       "      <th>South</th>\n",
       "      <td>1290303</td>\n",
       "      <td>552104</td>\n",
       "      <td>8468732</td>\n",
       "    </tr>\n",
       "    <tr>\n",
       "      <th>West</th>\n",
       "      <td>1088517</td>\n",
       "      <td>433520</td>\n",
       "      <td>7005908</td>\n",
       "    </tr>\n",
       "  </tbody>\n",
       "</table>\n",
       "</div>"
      ],
      "text/plain": [
       "income_profile  High Income  Low Income  Middle Income\n",
       "Region                                                \n",
       "Midwest              838034      343277        5479484\n",
       "Northeast            677680      283124        4503881\n",
       "South               1290303      552104        8468732\n",
       "West                1088517      433520        7005908"
      ]
     },
     "execution_count": 87,
     "metadata": {},
     "output_type": "execute_result"
    }
   ],
   "source": [
    "income_region_cross"
   ]
  },
  {
   "cell_type": "code",
   "execution_count": 115,
   "id": "58ae0f9e",
   "metadata": {},
   "outputs": [
    {
     "data": {
      "image/png": "[encoded data removed]",
      "text/plain": [
       "<Figure size 640x480 with 1 Axes>"
      ]
     },
     "metadata": {},
     "output_type": "display_data"
    }
   ],
   "source": [
    "income_region = income_region_cross.plot(kind = 'barh', color = sns.color_palette('Greens', 3))\n",
    "plt.legend(loc='lower right')\n",
    "plt.ylabel('Regions', fontweight = 'bold')\n",
    "plt.title('Income Profiles by Region', fontweight = 'bold')\n",
    "plt.show()"
   ]
  },
  {
   "cell_type": "code",
   "execution_count": 148,
   "id": "f22cfe46",
   "metadata": {},
   "outputs": [],
   "source": [
    "income_region.figure.savefig(os.path.join(path, '04 Analysis','Visualizations', 'income_region.png'))"
   ]
  },
  {
   "cell_type": "code",
   "execution_count": 112,
   "id": "6b315dbf",
   "metadata": {},
   "outputs": [],
   "source": [
    "# Income compared to Department\n",
    "income_dept_cross = pd.crosstab(df_dept_merged['department'], df_ords_prods_customers_active['income_profile'], dropna = False)"
   ]
  },
  {
   "cell_type": "code",
   "execution_count": 113,
   "id": "f823d606",
   "metadata": {},
   "outputs": [],
   "source": [
    "income_dept_cross.to_clipboard()"
   ]
  },
  {
   "cell_type": "code",
   "execution_count": 114,
   "id": "26b7791e",
   "metadata": {},
   "outputs": [
    {
     "data": {
      "text/html": [
       "<div>\n",
       "<style scoped>\n",
       "    .dataframe tbody tr th:only-of-type {\n",
       "        vertical-align: middle;\n",
       "    }\n",
       "\n",
       "    .dataframe tbody tr th {\n",
       "        vertical-align: top;\n",
       "    }\n",
       "\n",
       "    .dataframe thead th {\n",
       "        text-align: right;\n",
       "    }\n",
       "</style>\n",
       "<table border=\"1\" class=\"dataframe\">\n",
       "  <thead>\n",
       "    <tr style=\"text-align: right;\">\n",
       "      <th>income_profile</th>\n",
       "      <th>High Income</th>\n",
       "      <th>Low Income</th>\n",
       "      <th>Middle Income</th>\n",
       "    </tr>\n",
       "    <tr>\n",
       "      <th>department</th>\n",
       "      <th></th>\n",
       "      <th></th>\n",
       "      <th></th>\n",
       "    </tr>\n",
       "  </thead>\n",
       "  <tbody>\n",
       "    <tr>\n",
       "      <th>alcohol</th>\n",
       "      <td>15386</td>\n",
       "      <td>5171</td>\n",
       "      <td>117427</td>\n",
       "    </tr>\n",
       "    <tr>\n",
       "      <th>babies</th>\n",
       "      <td>45627</td>\n",
       "      <td>14621</td>\n",
       "      <td>333982</td>\n",
       "    </tr>\n",
       "    <tr>\n",
       "      <th>bakery</th>\n",
       "      <td>124994</td>\n",
       "      <td>55762</td>\n",
       "      <td>888622</td>\n",
       "    </tr>\n",
       "    <tr>\n",
       "      <th>beverages</th>\n",
       "      <td>292020</td>\n",
       "      <td>134166</td>\n",
       "      <td>2030098</td>\n",
       "    </tr>\n",
       "    <tr>\n",
       "      <th>breakfast</th>\n",
       "      <td>76535</td>\n",
       "      <td>30881</td>\n",
       "      <td>534973</td>\n",
       "    </tr>\n",
       "    <tr>\n",
       "      <th>bulk</th>\n",
       "      <td>2295</td>\n",
       "      <td>1560</td>\n",
       "      <td>27642</td>\n",
       "    </tr>\n",
       "    <tr>\n",
       "      <th>canned goods</th>\n",
       "      <td>126672</td>\n",
       "      <td>51494</td>\n",
       "      <td>790527</td>\n",
       "    </tr>\n",
       "    <tr>\n",
       "      <th>dairy eggs</th>\n",
       "      <td>601754</td>\n",
       "      <td>253234</td>\n",
       "      <td>4096034</td>\n",
       "    </tr>\n",
       "    <tr>\n",
       "      <th>deli</th>\n",
       "      <td>126447</td>\n",
       "      <td>49863</td>\n",
       "      <td>783042</td>\n",
       "    </tr>\n",
       "    <tr>\n",
       "      <th>dry goods pasta</th>\n",
       "      <td>94739</td>\n",
       "      <td>42720</td>\n",
       "      <td>648054</td>\n",
       "    </tr>\n",
       "    <tr>\n",
       "      <th>frozen</th>\n",
       "      <td>259323</td>\n",
       "      <td>107825</td>\n",
       "      <td>1659504</td>\n",
       "    </tr>\n",
       "    <tr>\n",
       "      <th>household</th>\n",
       "      <td>81603</td>\n",
       "      <td>36243</td>\n",
       "      <td>551009</td>\n",
       "    </tr>\n",
       "    <tr>\n",
       "      <th>international</th>\n",
       "      <td>29026</td>\n",
       "      <td>10836</td>\n",
       "      <td>203946</td>\n",
       "    </tr>\n",
       "    <tr>\n",
       "      <th>meat seafood</th>\n",
       "      <td>82549</td>\n",
       "      <td>36231</td>\n",
       "      <td>523628</td>\n",
       "    </tr>\n",
       "    <tr>\n",
       "      <th>missing</th>\n",
       "      <td>5385</td>\n",
       "      <td>2446</td>\n",
       "      <td>53898</td>\n",
       "    </tr>\n",
       "    <tr>\n",
       "      <th>other</th>\n",
       "      <td>3810</td>\n",
       "      <td>1320</td>\n",
       "      <td>27920</td>\n",
       "    </tr>\n",
       "    <tr>\n",
       "      <th>pantry</th>\n",
       "      <td>220008</td>\n",
       "      <td>92579</td>\n",
       "      <td>1390427</td>\n",
       "    </tr>\n",
       "    <tr>\n",
       "      <th>personal care</th>\n",
       "      <td>53102</td>\n",
       "      <td>19717</td>\n",
       "      <td>335639</td>\n",
       "    </tr>\n",
       "    <tr>\n",
       "      <th>pets</th>\n",
       "      <td>12739</td>\n",
       "      <td>4731</td>\n",
       "      <td>70711</td>\n",
       "    </tr>\n",
       "    <tr>\n",
       "      <th>produce</th>\n",
       "      <td>1120885</td>\n",
       "      <td>454799</td>\n",
       "      <td>7098948</td>\n",
       "    </tr>\n",
       "    <tr>\n",
       "      <th>snacks</th>\n",
       "      <td>334912</td>\n",
       "      <td>131862</td>\n",
       "      <td>2176193</td>\n",
       "    </tr>\n",
       "  </tbody>\n",
       "</table>\n",
       "</div>"
      ],
      "text/plain": [
       "income_profile   High Income  Low Income  Middle Income\n",
       "department                                             \n",
       "alcohol                15386        5171         117427\n",
       "babies                 45627       14621         333982\n",
       "bakery                124994       55762         888622\n",
       "beverages             292020      134166        2030098\n",
       "breakfast              76535       30881         534973\n",
       "bulk                    2295        1560          27642\n",
       "canned goods          126672       51494         790527\n",
       "dairy eggs            601754      253234        4096034\n",
       "deli                  126447       49863         783042\n",
       "dry goods pasta        94739       42720         648054\n",
       "frozen                259323      107825        1659504\n",
       "household              81603       36243         551009\n",
       "international          29026       10836         203946\n",
       "meat seafood           82549       36231         523628\n",
       "missing                 5385        2446          53898\n",
       "other                   3810        1320          27920\n",
       "pantry                220008       92579        1390427\n",
       "personal care          53102       19717         335639\n",
       "pets                   12739        4731          70711\n",
       "produce              1120885      454799        7098948\n",
       "snacks                334912      131862        2176193"
      ]
     },
     "execution_count": 114,
     "metadata": {},
     "output_type": "execute_result"
    }
   ],
   "source": [
    "income_dept_cross"
   ]
  },
  {
   "cell_type": "code",
   "execution_count": 116,
   "id": "7f00b929",
   "metadata": {},
   "outputs": [
    {
     "data": {
      "image/png": "[encoded data removed]",
      "text/plain": [
       "<Figure size 640x480 with 1 Axes>"
      ]
     },
     "metadata": {},
     "output_type": "display_data"
    }
   ],
   "source": [
    "income_dept = income_dept_cross.plot(kind = 'barh', color = sns.color_palette('Greens', 3))\n",
    "plt.legend(loc='lower right')\n",
    "plt.ylabel('Regions', fontweight = 'bold')\n",
    "plt.title('Income Profiles by Department', fontweight = 'bold')\n",
    "plt.show()"
   ]
  },
  {
   "cell_type": "code",
   "execution_count": 149,
   "id": "7abfbcbb",
   "metadata": {},
   "outputs": [],
   "source": [
    "income_dept.figure.savefig(os.path.join(path, '04 Analysis','Visualizations', 'income_dept.png'))"
   ]
  },
  {
   "cell_type": "code",
   "execution_count": 91,
   "id": "0394ad38",
   "metadata": {},
   "outputs": [],
   "source": [
    "# Family status compared to region\n",
    "family_region_cross = pd.crosstab(df_ords_prods_customers_active['Region'], df_ords_prods_customers_active['family_profile'], dropna = False)"
   ]
  },
  {
   "cell_type": "code",
   "execution_count": 92,
   "id": "efc10b39",
   "metadata": {},
   "outputs": [],
   "source": [
    "family_region_cross.to_clipboard()"
   ]
  },
  {
   "cell_type": "code",
   "execution_count": 93,
   "id": "c3b2fd3f",
   "metadata": {},
   "outputs": [
    {
     "data": {
      "text/html": [
       "<div>\n",
       "<style scoped>\n",
       "    .dataframe tbody tr th:only-of-type {\n",
       "        vertical-align: middle;\n",
       "    }\n",
       "\n",
       "    .dataframe tbody tr th {\n",
       "        vertical-align: top;\n",
       "    }\n",
       "\n",
       "    .dataframe thead th {\n",
       "        text-align: right;\n",
       "    }\n",
       "</style>\n",
       "<table border=\"1\" class=\"dataframe\">\n",
       "  <thead>\n",
       "    <tr style=\"text-align: right;\">\n",
       "      <th>family_profile</th>\n",
       "      <th>Family</th>\n",
       "      <th>Single Adult</th>\n",
       "    </tr>\n",
       "    <tr>\n",
       "      <th>Region</th>\n",
       "      <th></th>\n",
       "      <th></th>\n",
       "    </tr>\n",
       "  </thead>\n",
       "  <tbody>\n",
       "    <tr>\n",
       "      <th>Midwest</th>\n",
       "      <td>4996618</td>\n",
       "      <td>1664177</td>\n",
       "    </tr>\n",
       "    <tr>\n",
       "      <th>Northeast</th>\n",
       "      <td>4110203</td>\n",
       "      <td>1354482</td>\n",
       "    </tr>\n",
       "    <tr>\n",
       "      <th>South</th>\n",
       "      <td>7729206</td>\n",
       "      <td>2581933</td>\n",
       "    </tr>\n",
       "    <tr>\n",
       "      <th>West</th>\n",
       "      <td>6388856</td>\n",
       "      <td>2139089</td>\n",
       "    </tr>\n",
       "  </tbody>\n",
       "</table>\n",
       "</div>"
      ],
      "text/plain": [
       "family_profile   Family  Single Adult\n",
       "Region                               \n",
       "Midwest         4996618       1664177\n",
       "Northeast       4110203       1354482\n",
       "South           7729206       2581933\n",
       "West            6388856       2139089"
      ]
     },
     "execution_count": 93,
     "metadata": {},
     "output_type": "execute_result"
    }
   ],
   "source": [
    "family_region_cross"
   ]
  },
  {
   "cell_type": "code",
   "execution_count": 117,
   "id": "29c25e16",
   "metadata": {},
   "outputs": [
    {
     "data": {
      "image/png": "[encoded data removed]",
      "text/plain": [
       "<Figure size 640x480 with 1 Axes>"
      ]
     },
     "metadata": {},
     "output_type": "display_data"
    }
   ],
   "source": [
    "family_region = family_region_cross.plot(kind = 'barh', color = sns.color_palette('Greens', 2))\n",
    "plt.legend(loc='lower right')\n",
    "plt.ylabel('Regions', fontweight = 'bold')\n",
    "plt.title('Family Profiles by Region', fontweight = 'bold')\n",
    "plt.show()"
   ]
  },
  {
   "cell_type": "code",
   "execution_count": 150,
   "id": "6f50ba8c",
   "metadata": {},
   "outputs": [],
   "source": [
    "family_region.figure.savefig(os.path.join(path, '04 Analysis','Visualizations', 'family_region.png'))"
   ]
  },
  {
   "cell_type": "code",
   "execution_count": 67,
   "id": "bc2325f9",
   "metadata": {},
   "outputs": [],
   "source": [
    "# Family Status compared to department \n",
    "family_dept_cross = pd.crosstab(df_dept_merged['department'], df_ords_prods_customers_active['family_profile'], dropna = False)"
   ]
  },
  {
   "cell_type": "code",
   "execution_count": 120,
   "id": "e4403670",
   "metadata": {},
   "outputs": [],
   "source": [
    "family_dept_cross.to_clipboard()"
   ]
  },
  {
   "cell_type": "code",
   "execution_count": 121,
   "id": "eb62a7a3",
   "metadata": {},
   "outputs": [
    {
     "data": {
      "text/html": [
       "<div>\n",
       "<style scoped>\n",
       "    .dataframe tbody tr th:only-of-type {\n",
       "        vertical-align: middle;\n",
       "    }\n",
       "\n",
       "    .dataframe tbody tr th {\n",
       "        vertical-align: top;\n",
       "    }\n",
       "\n",
       "    .dataframe thead th {\n",
       "        text-align: right;\n",
       "    }\n",
       "</style>\n",
       "<table border=\"1\" class=\"dataframe\">\n",
       "  <thead>\n",
       "    <tr style=\"text-align: right;\">\n",
       "      <th>family_profile</th>\n",
       "      <th>Family</th>\n",
       "      <th>Single Adult</th>\n",
       "    </tr>\n",
       "    <tr>\n",
       "      <th>department</th>\n",
       "      <th></th>\n",
       "      <th></th>\n",
       "    </tr>\n",
       "  </thead>\n",
       "  <tbody>\n",
       "    <tr>\n",
       "      <th>alcohol</th>\n",
       "      <td>104941</td>\n",
       "      <td>33043</td>\n",
       "    </tr>\n",
       "    <tr>\n",
       "      <th>babies</th>\n",
       "      <td>292987</td>\n",
       "      <td>101243</td>\n",
       "    </tr>\n",
       "    <tr>\n",
       "      <th>bakery</th>\n",
       "      <td>784707</td>\n",
       "      <td>284671</td>\n",
       "    </tr>\n",
       "    <tr>\n",
       "      <th>beverages</th>\n",
       "      <td>1864092</td>\n",
       "      <td>592192</td>\n",
       "    </tr>\n",
       "    <tr>\n",
       "      <th>breakfast</th>\n",
       "      <td>483611</td>\n",
       "      <td>158778</td>\n",
       "    </tr>\n",
       "    <tr>\n",
       "      <th>bulk</th>\n",
       "      <td>25653</td>\n",
       "      <td>5844</td>\n",
       "    </tr>\n",
       "    <tr>\n",
       "      <th>canned goods</th>\n",
       "      <td>737489</td>\n",
       "      <td>231204</td>\n",
       "    </tr>\n",
       "    <tr>\n",
       "      <th>dairy eggs</th>\n",
       "      <td>3740172</td>\n",
       "      <td>1210850</td>\n",
       "    </tr>\n",
       "    <tr>\n",
       "      <th>deli</th>\n",
       "      <td>710482</td>\n",
       "      <td>248870</td>\n",
       "    </tr>\n",
       "    <tr>\n",
       "      <th>dry goods pasta</th>\n",
       "      <td>606059</td>\n",
       "      <td>179454</td>\n",
       "    </tr>\n",
       "    <tr>\n",
       "      <th>frozen</th>\n",
       "      <td>1475424</td>\n",
       "      <td>551228</td>\n",
       "    </tr>\n",
       "    <tr>\n",
       "      <th>household</th>\n",
       "      <td>497061</td>\n",
       "      <td>171794</td>\n",
       "    </tr>\n",
       "    <tr>\n",
       "      <th>international</th>\n",
       "      <td>186176</td>\n",
       "      <td>57632</td>\n",
       "    </tr>\n",
       "    <tr>\n",
       "      <th>meat seafood</th>\n",
       "      <td>477354</td>\n",
       "      <td>165054</td>\n",
       "    </tr>\n",
       "    <tr>\n",
       "      <th>missing</th>\n",
       "      <td>45365</td>\n",
       "      <td>16364</td>\n",
       "    </tr>\n",
       "    <tr>\n",
       "      <th>other</th>\n",
       "      <td>21619</td>\n",
       "      <td>11431</td>\n",
       "    </tr>\n",
       "    <tr>\n",
       "      <th>pantry</th>\n",
       "      <td>1294450</td>\n",
       "      <td>408564</td>\n",
       "    </tr>\n",
       "    <tr>\n",
       "      <th>personal care</th>\n",
       "      <td>312294</td>\n",
       "      <td>96164</td>\n",
       "    </tr>\n",
       "    <tr>\n",
       "      <th>pets</th>\n",
       "      <td>68421</td>\n",
       "      <td>19760</td>\n",
       "    </tr>\n",
       "    <tr>\n",
       "      <th>produce</th>\n",
       "      <td>6468783</td>\n",
       "      <td>2205849</td>\n",
       "    </tr>\n",
       "    <tr>\n",
       "      <th>snacks</th>\n",
       "      <td>1985056</td>\n",
       "      <td>657911</td>\n",
       "    </tr>\n",
       "  </tbody>\n",
       "</table>\n",
       "</div>"
      ],
      "text/plain": [
       "family_profile    Family  Single Adult\n",
       "department                            \n",
       "alcohol           104941         33043\n",
       "babies            292987        101243\n",
       "bakery            784707        284671\n",
       "beverages        1864092        592192\n",
       "breakfast         483611        158778\n",
       "bulk               25653          5844\n",
       "canned goods      737489        231204\n",
       "dairy eggs       3740172       1210850\n",
       "deli              710482        248870\n",
       "dry goods pasta   606059        179454\n",
       "frozen           1475424        551228\n",
       "household         497061        171794\n",
       "international     186176         57632\n",
       "meat seafood      477354        165054\n",
       "missing            45365         16364\n",
       "other              21619         11431\n",
       "pantry           1294450        408564\n",
       "personal care     312294         96164\n",
       "pets               68421         19760\n",
       "produce          6468783       2205849\n",
       "snacks           1985056        657911"
      ]
     },
     "execution_count": 121,
     "metadata": {},
     "output_type": "execute_result"
    }
   ],
   "source": [
    "family_dept_cross"
   ]
  },
  {
   "cell_type": "code",
   "execution_count": 70,
   "id": "4b2e088c",
   "metadata": {},
   "outputs": [
    {
     "data": {
      "image/png": "[encoded data removed]",
      "text/plain": [
       "<Figure size 640x480 with 1 Axes>"
      ]
     },
     "metadata": {},
     "output_type": "display_data"
    }
   ],
   "source": [
    "family_dept = family_dept_cross.plot(kind = 'barh', stacked = True, color = sns.color_palette('Greens', 2))\n",
    "plt.legend(loc='lower right')\n",
    "plt.ylabel('Department', fontweight = 'bold')\n",
    "plt.title('Family Profiles by Department', fontweight = 'bold')\n",
    "plt.show()"
   ]
  },
  {
   "cell_type": "code",
   "execution_count": 71,
   "id": "7dd08d2b",
   "metadata": {},
   "outputs": [],
   "source": [
    "family_dept.figure.savefig(os.path.join(path, '04 Analysis','Visualizations', 'family_dept.png'))"
   ]
  },
  {
   "cell_type": "markdown",
   "id": "f5d9824f",
   "metadata": {},
   "source": [
    "## Part 9 - Other visualizations "
   ]
  },
  {
   "cell_type": "code",
   "execution_count": null,
   "id": "7c406bb3",
   "metadata": {},
   "outputs": [],
   "source": [
    "# Creating chart for loyalty flag vs department "
   ]
  },
  {
   "cell_type": "code",
   "execution_count": 22,
   "id": "76188299",
   "metadata": {},
   "outputs": [],
   "source": [
    "loyalty_dept_cross = pd.crosstab(df_dept_merged['department'], df_ords_prods_customers_active['loyalty_flag'], dropna = False)"
   ]
  },
  {
   "cell_type": "code",
   "execution_count": 35,
   "id": "83a2fae0",
   "metadata": {},
   "outputs": [
    {
     "data": {
      "image/png": "[encoded data removed]",
      "text/plain": [
       "<Figure size 640x480 with 1 Axes>"
      ]
     },
     "metadata": {},
     "output_type": "display_data"
    }
   ],
   "source": [
    "loyalty_dept = loyalty_dept_cross.plot(kind = 'bar', stacked = True, color = sns.color_palette('Greens', 3))\n",
    "plt.legend(loc='upper left')\n",
    "plt.title('Loyalty Flag by Department', fontweight = 'bold')\n",
    "plt.xticks(rotation=45, ha = 'right')\n",
    "plt.show()"
   ]
  },
  {
   "cell_type": "code",
   "execution_count": 36,
   "id": "8a6ae683",
   "metadata": {},
   "outputs": [],
   "source": [
    "loyalty_dept.figure.savefig(os.path.join(path, '04 Analysis','Visualizations', 'loyalty_dept.png'))"
   ]
  },
  {
   "cell_type": "code",
   "execution_count": null,
   "id": "53365ecf",
   "metadata": {},
   "outputs": [],
   "source": [
    "# Creating chart for region vs department "
   ]
  },
  {
   "cell_type": "code",
   "execution_count": 58,
   "id": "35dedaa6",
   "metadata": {},
   "outputs": [],
   "source": [
    "loyalty_region_cross = pd.crosstab(df_ords_prods_customers['Region'], df_ords_prods_customers['loyalty_flag'], dropna = False)"
   ]
  },
  {
   "cell_type": "code",
   "execution_count": 59,
   "id": "8afc0f1d",
   "metadata": {},
   "outputs": [
    {
     "data": {
      "text/html": [
       "<div>\n",
       "<style scoped>\n",
       "    .dataframe tbody tr th:only-of-type {\n",
       "        vertical-align: middle;\n",
       "    }\n",
       "\n",
       "    .dataframe tbody tr th {\n",
       "        vertical-align: top;\n",
       "    }\n",
       "\n",
       "    .dataframe thead th {\n",
       "        text-align: right;\n",
       "    }\n",
       "</style>\n",
       "<table border=\"1\" class=\"dataframe\">\n",
       "  <thead>\n",
       "    <tr style=\"text-align: right;\">\n",
       "      <th>loyalty_flag</th>\n",
       "      <th>Loyal customer</th>\n",
       "      <th>New customer</th>\n",
       "      <th>Regular customer</th>\n",
       "    </tr>\n",
       "    <tr>\n",
       "      <th>Region</th>\n",
       "      <th></th>\n",
       "      <th></th>\n",
       "      <th></th>\n",
       "    </tr>\n",
       "  </thead>\n",
       "  <tbody>\n",
       "    <tr>\n",
       "      <th>Midwest</th>\n",
       "      <td>2178104</td>\n",
       "      <td>1350509</td>\n",
       "      <td>3441430</td>\n",
       "    </tr>\n",
       "    <tr>\n",
       "      <th>Northeast</th>\n",
       "      <td>1841785</td>\n",
       "      <td>1100207</td>\n",
       "      <td>2780744</td>\n",
       "    </tr>\n",
       "    <tr>\n",
       "      <th>South</th>\n",
       "      <td>3405844</td>\n",
       "      <td>2074410</td>\n",
       "      <td>5311631</td>\n",
       "    </tr>\n",
       "    <tr>\n",
       "      <th>West</th>\n",
       "      <td>2858360</td>\n",
       "      <td>1718864</td>\n",
       "      <td>4342971</td>\n",
       "    </tr>\n",
       "  </tbody>\n",
       "</table>\n",
       "</div>"
      ],
      "text/plain": [
       "loyalty_flag  Loyal customer  New customer  Regular customer\n",
       "Region                                                      \n",
       "Midwest              2178104       1350509           3441430\n",
       "Northeast            1841785       1100207           2780744\n",
       "South                3405844       2074410           5311631\n",
       "West                 2858360       1718864           4342971"
      ]
     },
     "execution_count": 59,
     "metadata": {},
     "output_type": "execute_result"
    }
   ],
   "source": [
    "loyalty_region_cross"
   ]
  },
  {
   "cell_type": "code",
   "execution_count": 64,
   "id": "a0b413c5",
   "metadata": {},
   "outputs": [
    {
     "data": {
      "image/png": "[encoded data removed]",
      "text/plain": [
       "<Figure size 640x480 with 1 Axes>"
      ]
     },
     "metadata": {},
     "output_type": "display_data"
    }
   ],
   "source": [
    "loyalty_region = loyalty_region_cross.plot(kind = 'bar', color = sns.color_palette('Greens', 3))\n",
    "plt.legend(loc='upper left')\n",
    "plt.title('Loyalty Flag by Region', fontweight = 'bold')\n",
    "plt.xticks(rotation=360)\n",
    "plt.show()"
   ]
  },
  {
   "cell_type": "code",
   "execution_count": 65,
   "id": "b37b3271",
   "metadata": {},
   "outputs": [],
   "source": [
    "loyalty_region.figure.savefig(os.path.join(path, '04 Analysis','Visualizations', 'loyalty_region.png'))"
   ]
  },
  {
   "cell_type": "code",
   "execution_count": null,
   "id": "14bb0257",
   "metadata": {},
   "outputs": [],
   "source": [
    "# Chart for age profile vs price of order "
   ]
  },
  {
   "cell_type": "code",
   "execution_count": 88,
   "id": "c35b814e",
   "metadata": {},
   "outputs": [],
   "source": [
    "age_price_cross = pd.crosstab(df_ords_prods_customers_active['price_range_loc'], df_ords_prods_customers_active['age_profile'], dropna = False)"
   ]
  },
  {
   "cell_type": "code",
   "execution_count": 97,
   "id": "65ed9578",
   "metadata": {
    "scrolled": true
   },
   "outputs": [
    {
     "data": {
      "image/png": "[encoded data removed]",
      "text/plain": [
       "<Figure size 640x480 with 1 Axes>"
      ]
     },
     "metadata": {},
     "output_type": "display_data"
    }
   ],
   "source": [
    "age_price = age_price_cross.plot(kind = 'bar', stacked = True, color = sns.color_palette('Greens', 3))\n",
    "plt.legend(loc='upper left')\n",
    "plt.title('Age vs Price Range', fontweight = 'bold')\n",
    "plt.xticks(rotation=360)\n",
    "plt.show()"
   ]
  },
  {
   "cell_type": "code",
   "execution_count": 99,
   "id": "90ac2f74",
   "metadata": {},
   "outputs": [],
   "source": [
    "age_price.figure.savefig(os.path.join(path, '04 Analysis','Visualizations', 'age_price.png'))"
   ]
  },
  {
   "cell_type": "code",
   "execution_count": 91,
   "id": "992a2229",
   "metadata": {},
   "outputs": [],
   "source": [
    "# Income vs price of orders\n",
    "income_price_cross = pd.crosstab(df_ords_prods_customers_active['price_range_loc'], df_ords_prods_customers_active['income_profile'], dropna = False)"
   ]
  },
  {
   "cell_type": "code",
   "execution_count": 96,
   "id": "490c332d",
   "metadata": {},
   "outputs": [
    {
     "data": {
      "image/png": "[encoded data removed]",
      "text/plain": [
       "<Figure size 640x480 with 1 Axes>"
      ]
     },
     "metadata": {},
     "output_type": "display_data"
    }
   ],
   "source": [
    "income_price = income_price_cross.plot(kind = 'bar', stacked = True, color = sns.color_palette('Greens', 3))\n",
    "plt.legend(loc='upper left')\n",
    "plt.title('Income vs Price Range', fontweight = 'bold')\n",
    "plt.xticks(rotation=360)\n",
    "plt.show()"
   ]
  },
  {
   "cell_type": "code",
   "execution_count": 100,
   "id": "a9e79027",
   "metadata": {},
   "outputs": [],
   "source": [
    "income_price.figure.savefig(os.path.join(path, '04 Analysis','Visualizations', 'income_price.png'))"
   ]
  },
  {
   "cell_type": "code",
   "execution_count": 94,
   "id": "95250cb6",
   "metadata": {},
   "outputs": [],
   "source": [
    "# Family status vs price of orders\n",
    "family_price_cross = pd.crosstab(df_ords_prods_customers_active['price_range_loc'], df_ords_prods_customers_active['family_profile'], dropna = False)"
   ]
  },
  {
   "cell_type": "code",
   "execution_count": 98,
   "id": "d0068c0f",
   "metadata": {
    "scrolled": true
   },
   "outputs": [
    {
     "data": {
      "image/png": "[encoded data removed]",
      "text/plain": [
       "<Figure size 640x480 with 1 Axes>"
      ]
     },
     "metadata": {},
     "output_type": "display_data"
    }
   ],
   "source": [
    "family_price = family_price_cross.plot(kind = 'bar', stacked = True, color = sns.color_palette('Greens', 3))\n",
    "plt.legend(loc='upper left')\n",
    "plt.title('Family Status vs Price Range', fontweight = 'bold')\n",
    "plt.xticks(rotation=360)\n",
    "plt.show()"
   ]
  },
  {
   "cell_type": "code",
   "execution_count": 101,
   "id": "1a79e710",
   "metadata": {},
   "outputs": [],
   "source": [
    "family_price.figure.savefig(os.path.join(path, '04 Analysis','Visualizations', 'family_price.png'))"
   ]
  },
  {
   "cell_type": "code",
   "execution_count": null,
   "id": "192fa6af",
   "metadata": {},
   "outputs": [],
   "source": [
    "# Age vs Orders day of week "
   ]
  },
  {
   "cell_type": "code",
   "execution_count": 102,
   "id": "fda3d0de",
   "metadata": {},
   "outputs": [],
   "source": [
    "age_orders_dow_cross = pd.crosstab(df_ords_prods_customers_active['orders_day_of_week'], df_ords_prods_customers_active['age_profile'], dropna = False)"
   ]
  },
  {
   "cell_type": "code",
   "execution_count": 104,
   "id": "bb820f4d",
   "metadata": {},
   "outputs": [
    {
     "data": {
      "image/png": "[encoded data removed]",
      "text/plain": [
       "<Figure size 640x480 with 1 Axes>"
      ]
     },
     "metadata": {},
     "output_type": "display_data"
    }
   ],
   "source": [
    "age_orders_dow = age_orders_dow_cross.plot(kind = 'barh', color = sns.color_palette('Greens', 3))\n",
    "plt.legend(loc='center right')\n",
    "plt.title('Age vs Orders Day of Week', fontweight = 'bold')\n",
    "plt.xticks(rotation=360)\n",
    "plt.show()"
   ]
  },
  {
   "cell_type": "code",
   "execution_count": 107,
   "id": "dd02384b",
   "metadata": {},
   "outputs": [],
   "source": [
    "age_orders_dow.figure.savefig(os.path.join(path, '04 Analysis','Visualizations', 'age_orders_dow.png'))"
   ]
  },
  {
   "cell_type": "code",
   "execution_count": null,
   "id": "da726406",
   "metadata": {},
   "outputs": [],
   "source": [
    "# Income vs orders dow "
   ]
  },
  {
   "cell_type": "code",
   "execution_count": 105,
   "id": "46b20304",
   "metadata": {},
   "outputs": [],
   "source": [
    "income_orders_dow_cross = pd.crosstab(df_ords_prods_customers_active['orders_day_of_week'], df_ords_prods_customers_active['income_profile'], dropna = False)"
   ]
  },
  {
   "cell_type": "code",
   "execution_count": 106,
   "id": "3dc92a5d",
   "metadata": {},
   "outputs": [
    {
     "data": {
      "image/png": "[encoded data removed]",
      "text/plain": [
       "<Figure size 640x480 with 1 Axes>"
      ]
     },
     "metadata": {},
     "output_type": "display_data"
    }
   ],
   "source": [
    "income_orders_dow = income_orders_dow_cross.plot(kind = 'barh', color = sns.color_palette('Greens', 3))\n",
    "plt.legend(loc='center right')\n",
    "plt.title('Income vs Orders Day of Week', fontweight = 'bold')\n",
    "plt.xticks(rotation=360)\n",
    "plt.show()"
   ]
  },
  {
   "cell_type": "code",
   "execution_count": 108,
   "id": "5df3eb2e",
   "metadata": {},
   "outputs": [],
   "source": [
    "income_orders_dow.figure.savefig(os.path.join(path, '04 Analysis','Visualizations', 'income_orders_dow.png'))"
   ]
  },
  {
   "cell_type": "code",
   "execution_count": null,
   "id": "ee5330cd",
   "metadata": {},
   "outputs": [],
   "source": [
    "# Family status vs Orders dow"
   ]
  },
  {
   "cell_type": "code",
   "execution_count": 109,
   "id": "23d93274",
   "metadata": {},
   "outputs": [],
   "source": [
    "family_orders_dow_cross = pd.crosstab(df_ords_prods_customers_active['orders_day_of_week'], df_ords_prods_customers_active['family_profile'], dropna = False)"
   ]
  },
  {
   "cell_type": "code",
   "execution_count": 112,
   "id": "b30fff3e",
   "metadata": {},
   "outputs": [
    {
     "data": {
      "image/png": "[encoded data removed]",
      "text/plain": [
       "<Figure size 640x480 with 1 Axes>"
      ]
     },
     "metadata": {},
     "output_type": "display_data"
    }
   ],
   "source": [
    "family_orders_dow = family_orders_dow_cross.plot(kind = 'barh', color = sns.color_palette('Greens', 2))\n",
    "plt.legend(loc='center right')\n",
    "plt.title('Family Status vs Orders Day of Week', fontweight = 'bold')\n",
    "plt.xticks(rotation=360)\n",
    "plt.show()"
   ]
  },
  {
   "cell_type": "code",
   "execution_count": 113,
   "id": "4cc850fa",
   "metadata": {},
   "outputs": [],
   "source": [
    "family_orders_dow.figure.savefig(os.path.join(path, '04 Analysis','Visualizations', 'family_orders_dow.png'))"
   ]
  },
  {
   "cell_type": "code",
   "execution_count": null,
   "id": "04e6c50b",
   "metadata": {},
   "outputs": [],
   "source": [
    "# Bar chart showing price ranges "
   ]
  },
  {
   "cell_type": "code",
   "execution_count": 118,
   "id": "095aee9b",
   "metadata": {},
   "outputs": [
    {
     "data": {
      "text/plain": [
       "(array([0, 1, 2]),\n",
       " [Text(0, 0, 'Low-range product'),\n",
       "  Text(1, 0, 'Mid-range product'),\n",
       "  Text(2, 0, 'High-range product')])"
      ]
     },
     "execution_count": 118,
     "metadata": {},
     "output_type": "execute_result"
    },
    {
     "data": {
      "image/png": "[encoded data removed]",
      "text/plain": [
       "<Figure size 640x480 with 1 Axes>"
      ]
     },
     "metadata": {},
     "output_type": "display_data"
    }
   ],
   "source": [
    "price_bar = df_ords_prods_customers_active['price_range_loc'].value_counts().plot.bar(color = ['darkgreen', 'green', 'lightgreen'])\n",
    "plt.title('Price Ranges', fontweight = 'bold')\n",
    "plt.xticks(rotation=360)"
   ]
  },
  {
   "cell_type": "code",
   "execution_count": 117,
   "id": "4b070802",
   "metadata": {},
   "outputs": [],
   "source": [
    "price_bar.figure.savefig(os.path.join(path, '04 Analysis','Visualizations', 'price_range_bar.png'))"
   ]
  },
  {
   "cell_type": "code",
   "execution_count": null,
   "id": "7ca03d19",
   "metadata": {},
   "outputs": [],
   "source": [
    "# Dept vs Region"
   ]
  },
  {
   "cell_type": "code",
   "execution_count": 124,
   "id": "25b75a1b",
   "metadata": {},
   "outputs": [],
   "source": [
    "dept_region_cross = pd.crosstab(df_dept_merged['department'], df_ords_prods_customers['Region'], dropna = False)"
   ]
  },
  {
   "cell_type": "code",
   "execution_count": 126,
   "id": "773d3b5c",
   "metadata": {},
   "outputs": [
    {
     "data": {
      "image/png": "[encoded data removed]",
      "text/plain": [
       "<Figure size 640x480 with 1 Axes>"
      ]
     },
     "metadata": {},
     "output_type": "display_data"
    }
   ],
   "source": [
    "dept_region = dept_region_cross.plot(kind = 'barh', stacked = True, color = sns.color_palette('Greens', 4))\n",
    "plt.legend(loc='center right')\n",
    "plt.title('Department vs Region', fontweight = 'bold')\n",
    "plt.xticks(rotation=360)\n",
    "plt.show()"
   ]
  },
  {
   "cell_type": "code",
   "execution_count": 127,
   "id": "cc56ad70",
   "metadata": {},
   "outputs": [],
   "source": [
    "dept_region.figure.savefig(os.path.join(path, '04 Analysis','Visualizations', 'dept_region.png'))"
   ]
  },
  {
   "cell_type": "code",
   "execution_count": 129,
   "id": "4bf5cec9",
   "metadata": {},
   "outputs": [],
   "source": [
    "age_family = pd.crosstab(df_ords_prods_customers_active['age_profile'], df_ords_prods_customers_active['family_profile'], dropna = False)"
   ]
  },
  {
   "cell_type": "code",
   "execution_count": 130,
   "id": "16bab489",
   "metadata": {},
   "outputs": [
    {
     "data": {
      "text/html": [
       "<div>\n",
       "<style scoped>\n",
       "    .dataframe tbody tr th:only-of-type {\n",
       "        vertical-align: middle;\n",
       "    }\n",
       "\n",
       "    .dataframe tbody tr th {\n",
       "        vertical-align: top;\n",
       "    }\n",
       "\n",
       "    .dataframe thead th {\n",
       "        text-align: right;\n",
       "    }\n",
       "</style>\n",
       "<table border=\"1\" class=\"dataframe\">\n",
       "  <thead>\n",
       "    <tr style=\"text-align: right;\">\n",
       "      <th>family_profile</th>\n",
       "      <th>Family</th>\n",
       "      <th>Single Adult</th>\n",
       "    </tr>\n",
       "    <tr>\n",
       "      <th>age_profile</th>\n",
       "      <th></th>\n",
       "      <th></th>\n",
       "    </tr>\n",
       "  </thead>\n",
       "  <tbody>\n",
       "    <tr>\n",
       "      <th>Adult</th>\n",
       "      <td>14140006</td>\n",
       "      <td>4764496</td>\n",
       "    </tr>\n",
       "    <tr>\n",
       "      <th>Senior</th>\n",
       "      <td>6173586</td>\n",
       "      <td>2021958</td>\n",
       "    </tr>\n",
       "    <tr>\n",
       "      <th>Young Adult</th>\n",
       "      <td>2911291</td>\n",
       "      <td>953227</td>\n",
       "    </tr>\n",
       "  </tbody>\n",
       "</table>\n",
       "</div>"
      ],
      "text/plain": [
       "family_profile    Family  Single Adult\n",
       "age_profile                           \n",
       "Adult           14140006       4764496\n",
       "Senior           6173586       2021958\n",
       "Young Adult      2911291        953227"
      ]
     },
     "execution_count": 130,
     "metadata": {},
     "output_type": "execute_result"
    }
   ],
   "source": [
    "age_family"
   ]
  },
  {
   "cell_type": "code",
   "execution_count": 131,
   "id": "a146c34f",
   "metadata": {},
   "outputs": [],
   "source": [
    "# Exporting data set\n",
    "df_ords_prods_customers_active.to_pickle(os.path.join(path, '02 Data','Prepared Data', 'orders_products_customers_active.pkl'))"
   ]
  },
  {
   "cell_type": "code",
   "execution_count": null,
   "id": "3e5c90e8",
   "metadata": {},
   "outputs": [],
   "source": []
  }
 ],
 "metadata": {
  "kernelspec": {
   "display_name": "Python 3 (ipykernel)",
   "language": "python",
   "name": "python3"
  },
  "language_info": {
   "codemirror_mode": {
    "name": "ipython",
    "version": 3
   },
   "file_extension": ".py",
   "mimetype": "text/x-python",
   "name": "python",
   "nbconvert_exporter": "python",
   "pygments_lexer": "ipython3",
   "version": "3.10.9"
  }
 },
 "nbformat": 4,
 "nbformat_minor": 5
}
